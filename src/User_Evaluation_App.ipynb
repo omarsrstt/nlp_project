{
 "cells": [
  {
   "cell_type": "code",
   "execution_count": 23,
   "id": "edd009b2",
   "metadata": {},
   "outputs": [],
   "source": [
    "import random\n",
    "import tensorflow as tf\n",
    "import torch\n",
    "import os\n",
    "import pandas as pd\n",
    "# Regular Expression for text cleaning\n",
    "import re\n",
    "import numpy as np\n",
    "from eval_util import *\n",
    "# to track the progress - progress bar\n",
    "from tqdm.notebook import tqdm\n",
    "from tensorflow.keras.models import load_model\n",
    "from keras.preprocessing.text import Tokenizer\n",
    "from keras_preprocessing.sequence import pad_sequences\n",
    "import contractions"
   ]
  },
  {
   "cell_type": "code",
   "execution_count": 29,
   "id": "60805811",
   "metadata": {},
   "outputs": [
    {
     "name": "stdout",
     "output_type": "stream",
     "text": [
      "WARNING:tensorflow:Layer lstm_2 will not use cuDNN kernels since it doesn't meet the criteria. It will use a generic GPU kernel as fallback when running on GPU.\n",
      "WARNING:tensorflow:Layer lstm_2 will not use cuDNN kernels since it doesn't meet the criteria. It will use a generic GPU kernel as fallback when running on GPU.\n",
      "WARNING:tensorflow:Layer lstm_2 will not use cuDNN kernels since it doesn't meet the criteria. It will use a generic GPU kernel as fallback when running on GPU.\n"
     ]
    }
   ],
   "source": [
    "\n",
    "def clean_text(text, mapping):\n",
    "    replace_white_space = [\"\\n\"]\n",
    "    for s in replace_white_space:\n",
    "        text = text.replace(s, \" \")\n",
    "    replace_punctuation = [\"’\", \"‘\", \"´\", \"`\", \"\\'\", r\"\\'\"]\n",
    "    for s in replace_punctuation:\n",
    "        text = text.replace(s, \"'\")\n",
    "    \n",
    "    # Random note: removing the URL's slightly degraded performance, it's possible the model learned that certain URLs were positive/negative\n",
    "    # And was able to extrapolate that to retweets. Could also explain why re-training the Embeddings improves performance.\n",
    "    # remove twitter url's\n",
    "    text = re.sub(r\"http[s]?://t.co/[A-Za-z0-9]*\",\"TWITTERURL\",text)\n",
    "    mapped_string = []\n",
    "    for t in text.split(\" \"):\n",
    "\n",
    "        mapped_string.append(contractions.fix(t))  \n",
    "    return ' '.join(mapped_string)\n",
    "\n",
    "#training constants\n",
    "MAX_SEQ_LEN = 36 #this is based on a quick analysis of the len of sequences train['text'].apply(lambda x : len(x.split(' '))).quantile(0.95)\n",
    "DEFAULT_BATCH_SIZE = 16\n",
    "\n",
    "\n",
    "\n",
    "# max number of words one sentence can have\n",
    "MAX_LEN = 36\n",
    "\n",
    "# width of of 1D embedding vector\n",
    "\n",
    "##load tensorflow model\n",
    "tokenizer = Tokenizer(lower=False)\n",
    "savedModel=load_model('model_1c.h5')"
   ]
  },
  {
   "cell_type": "code",
   "execution_count": 30,
   "id": "3c025b2a",
   "metadata": {},
   "outputs": [
    {
     "name": "stdout",
     "output_type": "stream",
     "text": [
      "Please enter the sentence:! yeah right\n",
      "yeah right\n",
      "\n",
      "\n",
      "The probability of sentence being sarcastic is 60.270 percent\n",
      "\n",
      "you need to spice up your life a bit but nice try!\n"
     ]
    }
   ],
   "source": [
    "\n",
    "\n",
    "sentence=input(\"Please enter the sentence:! \")\n",
    "# sentence = \"I really like getting bad marks in college!\"\n",
    "sentence=clean_text(sentence, contractions.fix)\n",
    "# sentence = preprocessing_text(sentence)\n",
    "print(sentence)\n",
    "sentence = tokenizer.texts_to_sequences([sentence])\n",
    "sentence = pad_sequences(sentence, maxlen = MAX_LEN)\n",
    "print()\n",
    "print()\n",
    "with tf.device('/cpu:0'):\n",
    "    prediction = savedModel.predict(sentence)\n",
    "print(\"The probability of sentence being sarcastic is %.3f percent\"%(prediction[0][0]*100))\n",
    "print()\n",
    "if prediction[0][0] < 0.3:\n",
    "    print(\"You need to work on your sarcasm!\")\n",
    "\n",
    "else:    \n",
    "    print(\"you need to spice up your life a bit but nice try!\")"
   ]
  },
  {
   "cell_type": "code",
   "execution_count": null,
   "id": "b40c35c3",
   "metadata": {},
   "outputs": [],
   "source": []
  }
 ],
 "metadata": {
  "kernelspec": {
   "display_name": "Python 3 (ipykernel)",
   "language": "python",
   "name": "python3"
  },
  "language_info": {
   "codemirror_mode": {
    "name": "ipython",
    "version": 3
   },
   "file_extension": ".py",
   "mimetype": "text/x-python",
   "name": "python",
   "nbconvert_exporter": "python",
   "pygments_lexer": "ipython3",
   "version": "3.9.13"
  }
 },
 "nbformat": 4,
 "nbformat_minor": 5
}
