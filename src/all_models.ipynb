{
 "cells": [
  {
   "cell_type": "code",
   "execution_count": 1,
   "metadata": {},
   "outputs": [],
   "source": [
    "def recall_m(y_true, y_pred):\n",
    "    true_positives = K.sum(K.round(K.clip(y_true * y_pred, 0, 1)))\n",
    "    possible_positives = K.sum(K.round(K.clip(y_true, 0, 1)))\n",
    "    recall = true_positives / (possible_positives + K.epsilon())\n",
    "    return recall\n",
    "\n",
    "def precision_m(y_true, y_pred):\n",
    "    true_positives = K.sum(K.round(K.clip(y_true * y_pred, 0, 1)))\n",
    "    predicted_positives = K.sum(K.round(K.clip(y_pred, 0, 1)))\n",
    "    precision = true_positives / (predicted_positives + K.epsilon())\n",
    "    return precision\n",
    "\n",
    "def f1_m(y_true, y_pred):\n",
    "    precision = precision_m(y_true, y_pred)\n",
    "    recall = recall_m(y_true, y_pred)\n",
    "    return 2*((precision*recall)/(precision+recall+K.epsilon()))"
   ]
  },
  {
   "cell_type": "code",
   "execution_count": 2,
   "metadata": {},
   "outputs": [
    {
     "data": {
      "text/plain": [
       "['preserve_unused_tokens=False']"
      ]
     },
     "execution_count": 2,
     "metadata": {},
     "output_type": "execute_result"
    }
   ],
   "source": [
    "import sys\n",
    "from absl import flags\n",
    "sys.argv=['preserve_unused_tokens=False']\n",
    "flags.FLAGS(sys.argv)"
   ]
  },
  {
   "cell_type": "code",
   "execution_count": 5,
   "metadata": {},
   "outputs": [
    {
     "name": "stdout",
     "output_type": "stream",
     "text": [
      "Requirement already satisfied: tensorflow_hub in /opt/conda/lib/python3.9/site-packages (0.12.0)\n",
      "Requirement already satisfied: protobuf>=3.8.0 in /opt/conda/lib/python3.9/site-packages (from tensorflow_hub) (3.20.1)\n",
      "Requirement already satisfied: numpy>=1.12.0 in /opt/conda/lib/python3.9/site-packages (from tensorflow_hub) (1.22.4)\n",
      "Requirement already satisfied: bert-tensorflow in /opt/conda/lib/python3.9/site-packages (1.0.4)\n",
      "Requirement already satisfied: six in /opt/conda/lib/python3.9/site-packages (from bert-tensorflow) (1.16.0)\n",
      "Collecting contractions\n",
      "  Using cached contractions-0.1.73-py2.py3-none-any.whl (8.7 kB)\n",
      "Collecting textsearch>=0.0.21\n",
      "  Using cached textsearch-0.0.24-py2.py3-none-any.whl (7.6 kB)\n",
      "Collecting pyahocorasick\n",
      "  Using cached pyahocorasick-1.4.4-cp39-cp39-manylinux_2_17_x86_64.manylinux2014_x86_64.whl (109 kB)\n",
      "Collecting anyascii\n",
      "  Using cached anyascii-0.3.1-py3-none-any.whl (287 kB)\n",
      "Installing collected packages: pyahocorasick, anyascii, textsearch, contractions\n",
      "Successfully installed anyascii-0.3.1 contractions-0.1.73 pyahocorasick-1.4.4 textsearch-0.0.24\n"
     ]
    }
   ],
   "source": [
    "!pip install tensorflow_hub\n",
    "!pip install bert-tensorflow\n",
    "!pip install contractions"
   ]
  },
  {
   "cell_type": "code",
   "execution_count": 6,
   "metadata": {},
   "outputs": [],
   "source": [
    "import os\n",
    "import re\n",
    "\n",
    "import numpy as np\n",
    "import tensorflow as tf\n",
    "\n",
    "np.random.seed(1)\n",
    "# tf.set_random_seed(2)\n",
    "tf.random.set_seed(2)\n",
    "\n",
    "import pandas as pd\n",
    "import keras\n",
    "# from tqdm import tqdm\n",
    "from tqdm import tqdm_notebook as tqdm\n",
    "from sklearn.model_selection import train_test_split\n",
    "from sklearn.preprocessing import LabelEncoder\n",
    "from sklearn.utils import class_weight\n",
    "from sklearn.metrics import f1_score, classification_report, log_loss\n",
    "\n",
    "from keras.preprocessing.text import Tokenizer\n",
    "from keras_preprocessing.sequence import pad_sequences\n",
    "# from keras.utils import to_categorical\n",
    "from tensorflow.keras.utils import to_categorical\n",
    "\n",
    "from keras.models import Sequential\n",
    "from keras.layers import Embedding, LSTM, Dense, SpatialDropout1D, Bidirectional, Flatten\n",
    "from keras.layers import Dropout, Conv1D, GlobalMaxPool1D, GRU, GlobalAvgPool1D\n",
    "# from keras.optimizers import Adam\n",
    "from tensorflow.keras.optimizers import Adam\n",
    "from keras.callbacks import ModelCheckpoint, EarlyStopping\n",
    "import contractions"
   ]
  },
  {
   "cell_type": "code",
   "execution_count": 7,
   "metadata": {},
   "outputs": [
    {
     "name": "stdout",
     "output_type": "stream",
     "text": [
      "(7500, 2)\n",
      "(834, 2)\n"
     ]
    }
   ],
   "source": [
    "\n",
    "import pandas as pd\n",
    "\n",
    "train_path = 'Train_Dataset.csv'\n",
    "test_path = 'Test_Dataset.csv'\n",
    "\n",
    "train = pd.read_csv(train_path)\n",
    "test = pd.read_csv(test_path)\n",
    "\n",
    "data=pd.concat([train,test],axis=0)\n",
    "train, test = train_test_split(data, random_state = 42, test_size=0.1)\n",
    "print(train.shape)\n",
    "print(test.shape)"
   ]
  },
  {
   "cell_type": "code",
   "execution_count": 17,
   "metadata": {},
   "outputs": [],
   "source": [
    "\n",
    "\n",
    "def clean_text(text, mapping):\n",
    "    replace_white_space = [\"\\n\"]\n",
    "    for s in replace_white_space:\n",
    "        text = text.replace(s, \" \")\n",
    "    replace_punctuation = [\"’\", \"‘\", \"´\", \"`\", \"\\'\", r\"\\'\"]\n",
    "    for s in replace_punctuation:\n",
    "        text = text.replace(s, \"'\")\n",
    "    \n",
    "    # Random note: removing the URL's slightly degraded performance, it's possible the model learned that certain URLs were positive/negative\n",
    "    # And was able to extrapolate that to retweets. Could also explain why re-training the Embeddings improves performance.\n",
    "    # remove twitter url's\n",
    "    text = re.sub(r\"http[s]?://t.co/[A-Za-z0-9]*\",\"TWITTERURL\",text)\n",
    "    mapped_string = []\n",
    "    for t in text.split(\" \"):\n",
    "\n",
    "        mapped_string.append(contractions.fix(t))  \n",
    "    return ' '.join(mapped_string)"
   ]
  },
  {
   "cell_type": "code",
   "execution_count": 9,
   "metadata": {},
   "outputs": [],
   "source": [
    "#training constants\n",
    "MAX_SEQ_LEN = 36 #this is based on a quick analysis of the len of sequences train['text'].apply(lambda x : len(x.split(' '))).quantile(0.95)\n",
    "DEFAULT_BATCH_SIZE = 16"
   ]
  },
  {
   "cell_type": "code",
   "execution_count": null,
   "metadata": {},
   "outputs": [],
   "source": []
  },
  {
   "cell_type": "code",
   "execution_count": 10,
   "metadata": {},
   "outputs": [
    {
     "name": "stdout",
     "output_type": "stream",
     "text": [
      "Number of Tokens: 14570\n",
      "Max Token Index: 14570 \n",
      "\n",
      "Sample Tweet Before Processing: The Vernon in town, best pub going. No questions asked.\n",
      "Sample Tweet After Processing: ['The Vernon in town best pub going No questions asked'] \n",
      "\n",
      "What the model will interpret: [0, 0, 0, 0, 0, 0, 0, 0, 0, 0, 0, 0, 0, 0, 0, 0, 0, 0, 0, 0, 0, 0, 0, 0, 0, 0, 54, 9508, 9, 1126, 129, 763, 60, 251, 1035, 529]\n"
     ]
    }
   ],
   "source": [
    "# Get tweets from Data frame and convert to list of \"texts\" scrubbing based on clean_text function\n",
    "# CONTRACTION_MAPPING is a map of common contractions(e.g don't => do not)\n",
    "train_text_vec = [clean_text(text, contractions.fix) for text in train['tweet'].values]\n",
    "test_text_vec = [clean_text(text, contractions.fix) for text in test['tweet'].values]\n",
    "\n",
    "\n",
    "# tokenize the sentences\n",
    "tokenizer = Tokenizer(lower=False)\n",
    "tokenizer.fit_on_texts(train_text_vec)\n",
    "train_text_vec = tokenizer.texts_to_sequences(train_text_vec)\n",
    "test_text_vec = tokenizer.texts_to_sequences(test_text_vec)\n",
    "\n",
    "# pad the sequences\n",
    "train_text_vec = pad_sequences(train_text_vec, maxlen=MAX_SEQ_LEN)\n",
    "test_text_vec = pad_sequences(test_text_vec, maxlen=MAX_SEQ_LEN)\n",
    "\n",
    "print('Number of Tokens:', len(tokenizer.word_index))\n",
    "print(\"Max Token Index:\", train_text_vec.max(), \"\\n\")\n",
    "\n",
    "print('Sample Tweet Before Processing:', train[\"tweet\"].values[0])\n",
    "print('Sample Tweet After Processing:', tokenizer.sequences_to_texts([train_text_vec[0]]), '\\n')\n",
    "\n",
    "print('What the model will interpret:', train_text_vec[0].tolist())"
   ]
  },
  {
   "cell_type": "code",
   "execution_count": 19,
   "metadata": {},
   "outputs": [
    {
     "data": {
      "text/plain": [
       "numpy.ndarray"
      ]
     },
     "execution_count": 19,
     "metadata": {},
     "output_type": "execute_result"
    }
   ],
   "source": [
    "type(train_text_vec[0])"
   ]
  },
  {
   "cell_type": "code",
   "execution_count": 11,
   "metadata": {},
   "outputs": [],
   "source": [
    "# One Hot Encode Y values:\n",
    "encoder = LabelEncoder()\n",
    "y_train = encoder.fit_transform(train['sarcastic'].values)\n",
    "y_train = to_categorical(y_train) \n",
    "\n",
    "y_test = encoder.fit_transform(test['sarcastic'].values)\n",
    "y_test = to_categorical(y_test) "
   ]
  },
  {
   "cell_type": "code",
   "execution_count": 12,
   "metadata": {},
   "outputs": [
    {
     "name": "stdout",
     "output_type": "stream",
     "text": [
      "Distribution of Classes: Counter({0: 5745, 1: 1755})\n",
      "[0.65274151 2.13675214]\n"
     ]
    }
   ],
   "source": [
    "# get an idea of the distribution of the text values\n",
    "from sklearn.utils.class_weight import compute_class_weight\n",
    "from collections import Counter\n",
    "ctr = Counter(train['sarcastic'].values)\n",
    "print('Distribution of Classes:', ctr)\n",
    "\n",
    "# get class weights for the training data, this will be used data\n",
    "y_train_int = np.argmax(y_train,axis=1)\n",
    "# cws = class_weight.compute_class_weight('balanced', np.unique(y_train_int), y_train_int)\n",
    "cws=class_weights = compute_class_weight(class_weight = \"balanced\", classes= np.unique(y_train_int), y= y_train_int)\n",
    "print(cws)"
   ]
  },
  {
   "cell_type": "markdown",
   "metadata": {},
   "source": [
    "### BASELINE Performance"
   ]
  },
  {
   "cell_type": "code",
   "execution_count": 13,
   "metadata": {},
   "outputs": [
    {
     "name": "stdout",
     "output_type": "stream",
     "text": [
      "Dominant Class:  0\n",
      "Baseline Accuracy Dominant Class 0.7853717026378897\n",
      "F1 Score: 0.6909583146109036\n"
     ]
    }
   ],
   "source": [
    "# \n",
    "print('Dominant Class: ', ctr.most_common(n = 1)[0][0])\n",
    "print('Baseline Accuracy Dominant Class', (ctr.most_common(n = 1)[0][0] == test['sarcastic'].values).mean())\n",
    "\n",
    "preds = np.zeros_like(y_test)\n",
    "preds[:, 0] = 1\n",
    "preds[0] = 1 #done to suppress warning from numpy for f1 score\n",
    "print('F1 Score:', f1_score(y_test, preds, average='weighted'))"
   ]
  },
  {
   "cell_type": "code",
   "execution_count": 14,
   "metadata": {},
   "outputs": [
    {
     "name": "stdout",
     "output_type": "stream",
     "text": [
      "Baseline Accuracy Using Naive Bayes:  0.7937649880095923\n",
      "F1 Score: 0.7103767684559419\n"
     ]
    },
    {
     "data": {
      "image/png": "[encoded data removed]",
      "text/plain": [
       "<Figure size 432x288 with 2 Axes>"
      ]
     },
     "metadata": {
      "needs_background": "light"
     },
     "output_type": "display_data"
    }
   ],
   "source": [
    "# Naive Bayse Baseline\n",
    "from sklearn.feature_extraction.text import CountVectorizer\n",
    "from sklearn.feature_extraction.text import TfidfTransformer\n",
    "from sklearn.naive_bayes import MultinomialNB\n",
    "from sklearn.pipeline import Pipeline\n",
    "# from sklearn.metrics import plot_confusion_matrix\n",
    "from sklearn.metrics import confusion_matrix, ConfusionMatrixDisplay\n",
    "import matplotlib.pyplot as plt\n",
    "\n",
    "text_clf = Pipeline([\n",
    "    ('vect', CountVectorizer()),\n",
    "    ('tfidf', TfidfTransformer()),\n",
    "    ('clf', MultinomialNB()),\n",
    "])\n",
    "text_clf.fit(tokenizer.sequences_to_texts_generator(train_text_vec), y_train.argmax(axis=1))\n",
    "predictions = text_clf.predict(tokenizer.sequences_to_texts_generator(test_text_vec)) \n",
    "print('Baseline Accuracy Using Naive Bayes: ', (predictions == y_test.argmax(axis = 1)).mean())\n",
    "print('F1 Score:', f1_score(y_test.argmax(axis = 1), predictions, average='weighted'))\n",
    "\n",
    "cm = confusion_matrix(y_test.argmax(axis = 1), predictions, labels=encoder.classes_)\n",
    "disp = ConfusionMatrixDisplay(confusion_matrix=cm,\n",
    "                              display_labels=encoder.classes_)\n",
    "disp.plot()\n",
    "\n",
    "plt.show()\n",
    "\n",
    "\n",
    "\n",
    "\n",
    "\n",
    "\n",
    "\n",
    "\n",
    "\n",
    "# _ = plot_confusion_matrix(y_test.argmax(axis = 1), y_true=predictions,labels=encoder.classes_, normalize=True)\n"
   ]
  },
  {
   "cell_type": "code",
   "execution_count": 11,
   "metadata": {},
   "outputs": [
    {
     "name": "stdout",
     "output_type": "stream",
     "text": [
      "Baseline Accuracy Using RFC:  0.8237410071942446\n",
      "F1 Score: 0.7762590404150771\n"
     ]
    },
    {
     "data": {
      "image/png": "[encoded data removed]",
      "text/plain": [
       "<Figure size 432x288 with 2 Axes>"
      ]
     },
     "metadata": {
      "needs_background": "light"
     },
     "output_type": "display_data"
    }
   ],
   "source": [
    "\n",
    "# Random Forest Baseline\n",
    "from sklearn.feature_extraction.text import CountVectorizer\n",
    "from sklearn.feature_extraction.text import TfidfTransformer\n",
    "from sklearn.naive_bayes import MultinomialNB\n",
    "from sklearn.ensemble import RandomForestClassifier\n",
    "from sklearn.pipeline import Pipeline\n",
    "\n",
    "text_clf = Pipeline([\n",
    "    ('vect', CountVectorizer()),\n",
    "    ('tfidf', TfidfTransformer()),\n",
    "    ('clf', RandomForestClassifier(class_weight='balanced', n_estimators=100)), #100 estimators will be the new default in version 0.22\n",
    "])\n",
    "text_clf.fit(tokenizer.sequences_to_texts_generator(train_text_vec), y_train.argmax(axis=1))\n",
    "predictions = text_clf.predict(tokenizer.sequences_to_texts_generator(test_text_vec)) \n",
    "print('Baseline Accuracy Using RFC: ', (predictions == y_test.argmax(axis = 1)).mean())\n",
    "print('F1 Score:', f1_score(y_test.argmax(axis = 1), predictions, average='weighted'))\n",
    "\n",
    "cm = confusion_matrix(y_test.argmax(axis = 1), predictions, labels=encoder.classes_)\n",
    "disp = ConfusionMatrixDisplay(confusion_matrix=cm,\n",
    "                              display_labels=encoder.classes_)\n",
    "disp.plot()\n",
    "\n",
    "plt.show()\n"
   ]
  },
  {
   "cell_type": "code",
   "execution_count": 15,
   "metadata": {},
   "outputs": [],
   "source": [
    "def threshold_search(y_true, y_proba, average = None):\n",
    "    best_threshold = 0\n",
    "    best_score = 0\n",
    "    for threshold in [i * 0.01 for i in range(100)]:\n",
    "        score = f1_score(y_true=y_true, y_pred=y_proba > threshold, average=average)\n",
    "        if score > best_score:\n",
    "            best_threshold = threshold\n",
    "            best_score = score\n",
    "    search_result = {'threshold': best_threshold, 'f1': best_score}\n",
    "    return search_result\n",
    "\n",
    "\n",
    "def train(model, \n",
    "          X_train, y_train, X_test, y_test, \n",
    "          checkpoint_path=r'model.{epoch:02d}-{val_loss:.2f}.h5', \n",
    "          epcohs = 25, \n",
    "          batch_size = DEFAULT_BATCH_SIZE, \n",
    "          class_weights = None, \n",
    "          fit_verbose=2,\n",
    "          print_summary = True\n",
    "         ):\n",
    "    m = model()\n",
    "    if print_summary:\n",
    "        print(m.summary())\n",
    "    with tf.device('/cpu:0'):\n",
    "        m.fit(\n",
    "            X_train, \n",
    "            y_train, \n",
    "            #this is bad practice using test data for validation, in a real case would use a seperate validation set\n",
    "            validation_data=(X_test, y_test),  \n",
    "            epochs=epcohs, \n",
    "            batch_size=batch_size,\n",
    "            # class_weight=class_weights,\n",
    "             #saves the most accurate model, usually you would save the one with the lowest loss\n",
    "            callbacks= [\n",
    "                ModelCheckpoint(filepath=checkpoint_path, monitor='val_accuracy', verbose=1, save_best_only=True),\n",
    "                EarlyStopping(patience = 2)\n",
    "            ],\n",
    "            verbose=fit_verbose\n",
    "        ) \n",
    "    print(\"\\n\\n****************************\\n\\n\")\n",
    "    print('Loading Best Model...')\n",
    "    # m.load_weights(checkpoint_path)\n",
    "    with tf.device('/cpu:0'):\n",
    "        predictions = m.predict(X_test, verbose=1)\n",
    "    print('Validation Loss:', log_loss(y_test, predictions))\n",
    "    print('Test Accuracy', (predictions.argmax(axis = 1) == y_test.argmax(axis = 1)).mean())\n",
    "    print('F1 Score:', f1_score(y_test.argmax(axis = 1), predictions.argmax(axis = 1), average='weighted'))\n",
    "    # cm = confusion_matrix(y_test.argmax(axis = 1), predictions, labels=encoder.classes_)\n",
    "    # disp = ConfusionMatrixDisplay(confusion_matrix=cm,\n",
    "    #                             display_labels=encoder.classes_)\n",
    "    # disp.plot()\n",
    "\n",
    "    # plt.show()\n",
    "    return m #returns best performing model"
   ]
  },
  {
   "cell_type": "markdown",
   "metadata": {},
   "source": [
    "### deep learning architectures\n"
   ]
  },
  {
   "cell_type": "code",
   "execution_count": 16,
   "metadata": {},
   "outputs": [
    {
     "name": "stderr",
     "output_type": "stream",
     "text": [
      "2023-01-13 01:48:56.339731: I tensorflow/stream_executor/cuda/cuda_gpu_executor.cc:936] successful NUMA node read from SysFS had negative value (-1), but there must be at least one NUMA node, so returning NUMA node zero\n",
      "2023-01-13 01:48:56.340050: I tensorflow/stream_executor/cuda/cuda_gpu_executor.cc:936] successful NUMA node read from SysFS had negative value (-1), but there must be at least one NUMA node, so returning NUMA node zero\n",
      "2023-01-13 01:48:56.346600: I tensorflow/stream_executor/cuda/cuda_gpu_executor.cc:936] successful NUMA node read from SysFS had negative value (-1), but there must be at least one NUMA node, so returning NUMA node zero\n",
      "2023-01-13 01:48:56.346867: I tensorflow/stream_executor/cuda/cuda_gpu_executor.cc:936] successful NUMA node read from SysFS had negative value (-1), but there must be at least one NUMA node, so returning NUMA node zero\n",
      "2023-01-13 01:48:56.347098: I tensorflow/stream_executor/cuda/cuda_gpu_executor.cc:936] successful NUMA node read from SysFS had negative value (-1), but there must be at least one NUMA node, so returning NUMA node zero\n",
      "2023-01-13 01:48:56.347325: I tensorflow/stream_executor/cuda/cuda_gpu_executor.cc:936] successful NUMA node read from SysFS had negative value (-1), but there must be at least one NUMA node, so returning NUMA node zero\n",
      "2023-01-13 01:48:56.348012: I tensorflow/core/platform/cpu_feature_guard.cc:151] This TensorFlow binary is optimized with oneAPI Deep Neural Network Library (oneDNN) to use the following CPU instructions in performance-critical operations:  AVX2 FMA\n",
      "To enable them in other operations, rebuild TensorFlow with the appropriate compiler flags.\n",
      "2023-01-13 01:48:56.717322: I tensorflow/stream_executor/cuda/cuda_gpu_executor.cc:936] successful NUMA node read from SysFS had negative value (-1), but there must be at least one NUMA node, so returning NUMA node zero\n",
      "2023-01-13 01:48:56.717485: I tensorflow/stream_executor/cuda/cuda_gpu_executor.cc:936] successful NUMA node read from SysFS had negative value (-1), but there must be at least one NUMA node, so returning NUMA node zero\n",
      "2023-01-13 01:48:56.717621: I tensorflow/stream_executor/cuda/cuda_gpu_executor.cc:936] successful NUMA node read from SysFS had negative value (-1), but there must be at least one NUMA node, so returning NUMA node zero\n",
      "2023-01-13 01:48:56.717738: I tensorflow/stream_executor/cuda/cuda_gpu_executor.cc:936] successful NUMA node read from SysFS had negative value (-1), but there must be at least one NUMA node, so returning NUMA node zero\n",
      "2023-01-13 01:48:56.717855: I tensorflow/stream_executor/cuda/cuda_gpu_executor.cc:936] successful NUMA node read from SysFS had negative value (-1), but there must be at least one NUMA node, so returning NUMA node zero\n",
      "2023-01-13 01:48:56.717977: I tensorflow/stream_executor/cuda/cuda_gpu_executor.cc:936] successful NUMA node read from SysFS had negative value (-1), but there must be at least one NUMA node, so returning NUMA node zero\n",
      "2023-01-13 01:48:57.209083: I tensorflow/stream_executor/cuda/cuda_gpu_executor.cc:936] successful NUMA node read from SysFS had negative value (-1), but there must be at least one NUMA node, so returning NUMA node zero\n",
      "2023-01-13 01:48:57.209268: I tensorflow/stream_executor/cuda/cuda_gpu_executor.cc:936] successful NUMA node read from SysFS had negative value (-1), but there must be at least one NUMA node, so returning NUMA node zero\n",
      "2023-01-13 01:48:57.209401: I tensorflow/stream_executor/cuda/cuda_gpu_executor.cc:936] successful NUMA node read from SysFS had negative value (-1), but there must be at least one NUMA node, so returning NUMA node zero\n",
      "2023-01-13 01:48:57.209527: I tensorflow/stream_executor/cuda/cuda_gpu_executor.cc:936] successful NUMA node read from SysFS had negative value (-1), but there must be at least one NUMA node, so returning NUMA node zero\n",
      "2023-01-13 01:48:57.209650: I tensorflow/stream_executor/cuda/cuda_gpu_executor.cc:936] successful NUMA node read from SysFS had negative value (-1), but there must be at least one NUMA node, so returning NUMA node zero\n",
      "2023-01-13 01:48:57.209770: I tensorflow/core/common_runtime/gpu/gpu_device.cc:1525] Created device /job:localhost/replica:0/task:0/device:GPU:0 with 22306 MB memory:  -> device: 0, name: NVIDIA GeForce RTX 3090, pci bus id: 0000:04:00.0, compute capability: 8.6\n",
      "2023-01-13 01:48:57.210064: I tensorflow/stream_executor/cuda/cuda_gpu_executor.cc:936] successful NUMA node read from SysFS had negative value (-1), but there must be at least one NUMA node, so returning NUMA node zero\n",
      "2023-01-13 01:48:57.210173: I tensorflow/core/common_runtime/gpu/gpu_device.cc:1525] Created device /job:localhost/replica:0/task:0/device:GPU:1 with 22290 MB memory:  -> device: 1, name: NVIDIA GeForce RTX 3090, pci bus id: 0000:09:00.0, compute capability: 8.6\n"
     ]
    },
    {
     "name": "stdout",
     "output_type": "stream",
     "text": [
      "Model: \"sequential\"\n",
      "_________________________________________________________________\n",
      " Layer (type)                Output Shape              Param #   \n",
      "=================================================================\n",
      " embedding (Embedding)       (None, 36, 128)           1865088   \n",
      "                                                                 \n",
      " lstm (LSTM)                 (None, 128)               131584    \n",
      "                                                                 \n",
      " dense (Dense)               (None, 64)                8256      \n",
      "                                                                 \n",
      " dense_1 (Dense)             (None, 2)                 130       \n",
      "                                                                 \n",
      "=================================================================\n",
      "Total params: 2,005,058\n",
      "Trainable params: 2,005,058\n",
      "Non-trainable params: 0\n",
      "_________________________________________________________________\n",
      "None\n",
      "Epoch 1/25\n",
      "\n",
      "Epoch 1: val_accuracy improved from -inf to 0.83693, saving model to model.01-0.39.h5\n",
      "469/469 - 8s - loss: 0.5052 - accuracy: 0.7752 - val_loss: 0.3886 - val_accuracy: 0.8369 - 8s/epoch - 17ms/step\n",
      "Epoch 2/25\n",
      "\n",
      "Epoch 2: val_accuracy improved from 0.83693 to 0.90408, saving model to model.02-0.26.h5\n",
      "469/469 - 7s - loss: 0.1931 - accuracy: 0.9288 - val_loss: 0.2619 - val_accuracy: 0.9041 - 7s/epoch - 15ms/step\n",
      "Epoch 3/25\n",
      "\n",
      "Epoch 3: val_accuracy improved from 0.90408 to 0.90887, saving model to model.03-0.29.h5\n",
      "469/469 - 7s - loss: 0.0546 - accuracy: 0.9823 - val_loss: 0.2850 - val_accuracy: 0.9089 - 7s/epoch - 15ms/step\n",
      "Epoch 4/25\n",
      "\n",
      "Epoch 4: val_accuracy did not improve from 0.90887\n",
      "469/469 - 7s - loss: 0.0263 - accuracy: 0.9909 - val_loss: 0.3362 - val_accuracy: 0.9053 - 7s/epoch - 15ms/step\n",
      "\n",
      "\n",
      "****************************\n",
      "\n",
      "\n",
      "Loading Best Model...\n",
      "27/27 [==============================] - 0s 6ms/step\n",
      "Validation Loss: 0.336236468007167\n",
      "Test Accuracy 0.9052757793764988\n",
      "F1 Score: 0.907128455927337\n"
     ]
    }
   ],
   "source": [
    "def model_1():\n",
    "    model = Sequential()\n",
    "    model.add(Embedding(input_dim = (len(tokenizer.word_counts) + 1), output_dim = 128, input_length = MAX_SEQ_LEN))\n",
    "    model.add(LSTM(128))\n",
    "    model.add(Dense(64, activation='relu'))\n",
    "    model.add(Dense(2, activation='softmax'))\n",
    "    model.compile(loss='categorical_crossentropy', optimizer='adam', metrics=['accuracy'])\n",
    "    return model\n",
    "\n",
    "m1 = train(model_1, \n",
    "           train_text_vec,\n",
    "           y_train,\n",
    "           test_text_vec,\n",
    "           y_test,\n",
    "           class_weights=cws\n",
    "          )"
   ]
  },
  {
   "cell_type": "code",
   "execution_count": 14,
   "metadata": {},
   "outputs": [
    {
     "name": "stdout",
     "output_type": "stream",
     "text": [
      "WARNING:tensorflow:Layer lstm_1 will not use cuDNN kernels since it doesn't meet the criteria. It will use a generic GPU kernel as fallback when running on GPU.\n",
      "WARNING:tensorflow:Layer lstm_1 will not use cuDNN kernels since it doesn't meet the criteria. It will use a generic GPU kernel as fallback when running on GPU.\n",
      "WARNING:tensorflow:Layer lstm_1 will not use cuDNN kernels since it doesn't meet the criteria. It will use a generic GPU kernel as fallback when running on GPU.\n",
      "Model: \"sequential_1\"\n",
      "_________________________________________________________________\n",
      " Layer (type)                Output Shape              Param #   \n",
      "=================================================================\n",
      " embedding_1 (Embedding)     (None, 36, 128)           1865088   \n",
      "                                                                 \n",
      " spatial_dropout1d (SpatialD  (None, 36, 128)          0         \n",
      " ropout1D)                                                       \n",
      "                                                                 \n",
      " bidirectional (Bidirectiona  (None, 256)              263168    \n",
      " l)                                                              \n",
      "                                                                 \n",
      " dense_2 (Dense)             (None, 64)                16448     \n",
      "                                                                 \n",
      " dense_3 (Dense)             (None, 2)                 130       \n",
      "                                                                 \n",
      "=================================================================\n",
      "Total params: 2,144,834\n",
      "Trainable params: 2,144,834\n",
      "Non-trainable params: 0\n",
      "_________________________________________________________________\n",
      "None\n",
      "Epoch 1/25\n",
      "\n",
      "Epoch 1: val_accuracy improved from -inf to 0.81415, saving model to model_1b.h5\n",
      "469/469 - 34s - loss: 0.5219 - accuracy: 0.7687 - val_loss: 0.4309 - val_accuracy: 0.8141 - 34s/epoch - 72ms/step\n",
      "Epoch 2/25\n",
      "\n",
      "Epoch 2: val_accuracy improved from 0.81415 to 0.86331, saving model to model_1b.h5\n",
      "469/469 - 32s - loss: 0.2631 - accuracy: 0.8956 - val_loss: 0.3188 - val_accuracy: 0.8633 - 32s/epoch - 68ms/step\n",
      "Epoch 3/25\n",
      "\n",
      "Epoch 3: val_accuracy improved from 0.86331 to 0.88489, saving model to model_1b.h5\n",
      "469/469 - 32s - loss: 0.0967 - accuracy: 0.9652 - val_loss: 0.2972 - val_accuracy: 0.8849 - 32s/epoch - 68ms/step\n",
      "Epoch 4/25\n",
      "\n",
      "Epoch 4: val_accuracy improved from 0.88489 to 0.89568, saving model to model_1b.h5\n",
      "469/469 - 32s - loss: 0.0484 - accuracy: 0.9836 - val_loss: 0.3274 - val_accuracy: 0.8957 - 32s/epoch - 68ms/step\n",
      "Epoch 5/25\n",
      "\n",
      "Epoch 5: val_accuracy improved from 0.89568 to 0.91007, saving model to model_1b.h5\n",
      "469/469 - 32s - loss: 0.0263 - accuracy: 0.9915 - val_loss: 0.3314 - val_accuracy: 0.9101 - 32s/epoch - 68ms/step\n",
      "\n",
      "\n",
      "****************************\n",
      "\n",
      "\n",
      "Loading Best Model...\n",
      "27/27 [==============================] - 1s 49ms/step\n",
      "Validation Loss: 0.33142681548309\n",
      "Test Accuracy 0.9100719424460432\n",
      "F1 Score: 0.9097947005235455\n"
     ]
    }
   ],
   "source": [
    "def model_1b():\n",
    "    \"\"\"\n",
    "    Using a Bidiretional LSTM. \n",
    "    \"\"\"\n",
    "    model = Sequential()\n",
    "    model.add(Embedding(input_dim = (len(tokenizer.word_counts) + 1), output_dim = 128, input_length = MAX_SEQ_LEN))\n",
    "    model.add(SpatialDropout1D(0.3))\n",
    "    model.add(Bidirectional(LSTM(128, dropout=0.25, recurrent_dropout=0.25)))\n",
    "    model.add(Dense(64, activation='relu'))\n",
    "#     model.add(Dropout(0.3))\n",
    "    model.add(Dense(2, activation='softmax'))\n",
    "    model.compile(loss='categorical_crossentropy', optimizer='adam', metrics=['accuracy'])\n",
    "    return model\n",
    "\n",
    "m2= train(model_1b, \n",
    "           train_text_vec,\n",
    "           y_train,\n",
    "           test_text_vec,\n",
    "           y_test,\n",
    "           checkpoint_path='model_1b.h5',\n",
    "           class_weights=cws,\n",
    "           print_summary = True\n",
    "          )"
   ]
  },
  {
   "cell_type": "code",
   "execution_count": 15,
   "metadata": {},
   "outputs": [
    {
     "name": "stdout",
     "output_type": "stream",
     "text": [
      "WARNING:tensorflow:Layer lstm_2 will not use cuDNN kernels since it doesn't meet the criteria. It will use a generic GPU kernel as fallback when running on GPU.\n",
      "WARNING:tensorflow:Layer lstm_2 will not use cuDNN kernels since it doesn't meet the criteria. It will use a generic GPU kernel as fallback when running on GPU.\n",
      "WARNING:tensorflow:Layer lstm_2 will not use cuDNN kernels since it doesn't meet the criteria. It will use a generic GPU kernel as fallback when running on GPU.\n",
      "Model: \"sequential_2\"\n",
      "_________________________________________________________________\n",
      " Layer (type)                Output Shape              Param #   \n",
      "=================================================================\n",
      " embedding_2 (Embedding)     (None, 36, 128)           1865088   \n",
      "                                                                 \n",
      " spatial_dropout1d_1 (Spatia  (None, 36, 128)          0         \n",
      " lDropout1D)                                                     \n",
      "                                                                 \n",
      " bidirectional_1 (Bidirectio  (None, 36, 256)          263168    \n",
      " nal)                                                            \n",
      "                                                                 \n",
      " conv1d (Conv1D)             (None, 33, 64)            65600     \n",
      "                                                                 \n",
      " global_max_pooling1d (Globa  (None, 64)               0         \n",
      " lMaxPooling1D)                                                  \n",
      "                                                                 \n",
      " dense_4 (Dense)             (None, 64)                4160      \n",
      "                                                                 \n",
      " dense_5 (Dense)             (None, 2)                 130       \n",
      "                                                                 \n",
      "=================================================================\n",
      "Total params: 2,198,146\n",
      "Trainable params: 2,198,146\n",
      "Non-trainable params: 0\n",
      "_________________________________________________________________\n",
      "None\n",
      "Epoch 1/25\n",
      "\n",
      "Epoch 1: val_accuracy improved from -inf to 0.81894, saving model to model_1c.h5\n",
      "469/469 - 34s - loss: 0.5215 - accuracy: 0.7687 - val_loss: 0.4065 - val_accuracy: 0.8189 - 34s/epoch - 73ms/step\n",
      "Epoch 2/25\n",
      "\n",
      "Epoch 2: val_accuracy improved from 0.81894 to 0.88609, saving model to model_1c.h5\n",
      "469/469 - 32s - loss: 0.2668 - accuracy: 0.8929 - val_loss: 0.2779 - val_accuracy: 0.8861 - 32s/epoch - 69ms/step\n",
      "Epoch 3/25\n",
      "\n",
      "Epoch 3: val_accuracy improved from 0.88609 to 0.91007, saving model to model_1c.h5\n",
      "469/469 - 32s - loss: 0.0892 - accuracy: 0.9667 - val_loss: 0.2829 - val_accuracy: 0.9101 - 32s/epoch - 69ms/step\n",
      "Epoch 4/25\n",
      "\n",
      "Epoch 4: val_accuracy improved from 0.91007 to 0.92446, saving model to model_1c.h5\n",
      "469/469 - 32s - loss: 0.0397 - accuracy: 0.9871 - val_loss: 0.3170 - val_accuracy: 0.9245 - 32s/epoch - 69ms/step\n",
      "\n",
      "\n",
      "****************************\n",
      "\n",
      "\n",
      "Loading Best Model...\n",
      "27/27 [==============================] - 2s 50ms/step\n",
      "Validation Loss: 0.3170411985217693\n",
      "Test Accuracy 0.9244604316546763\n",
      "F1 Score: 0.9248359647989787\n"
     ]
    }
   ],
   "source": [
    "##  Convolution LSTM\n",
    "\n",
    "def model_1c():\n",
    "    \"\"\"\n",
    "    Adding dropout to reduce overfitting using a bidiretional LSTM\n",
    "    \"\"\"\n",
    "    model = Sequential()\n",
    "    model.add(Embedding(input_dim = (len(tokenizer.word_counts) + 1), output_dim = 128, input_length = MAX_SEQ_LEN))\n",
    "    model.add(SpatialDropout1D(0.3))\n",
    "    model.add(Bidirectional(LSTM(128, dropout=0.25, recurrent_dropout=0.25, return_sequences=True)))\n",
    "    model.add(Conv1D(64, 4))\n",
    "#     model.add(Flatten())\n",
    "    model.add(GlobalMaxPool1D())\n",
    "    model.add(Dense(64, activation='relu'))\n",
    "    model.add(Dense(2, activation='softmax'))\n",
    "    model.compile(loss='categorical_crossentropy', optimizer='adam', metrics=['accuracy'])\n",
    "#     print(model.summary())\n",
    "    return model\n",
    "\n",
    "\n",
    "m3 = train(model_1c, \n",
    "           train_text_vec,\n",
    "           y_train,\n",
    "           test_text_vec,\n",
    "           y_test,\n",
    "           checkpoint_path='model_1c.h5',\n",
    "           class_weights=cws,\n",
    "           print_summary = True\n",
    "          )"
   ]
  },
  {
   "cell_type": "markdown",
   "metadata": {},
   "source": [
    "### Only Convolution Netwrok"
   ]
  },
  {
   "cell_type": "code",
   "execution_count": 16,
   "metadata": {},
   "outputs": [
    {
     "name": "stdout",
     "output_type": "stream",
     "text": [
      "Model: \"sequential_3\"\n",
      "_________________________________________________________________\n",
      " Layer (type)                Output Shape              Param #   \n",
      "=================================================================\n",
      " embedding_3 (Embedding)     (None, 36, 128)           1865088   \n",
      "                                                                 \n",
      " spatial_dropout1d_2 (Spatia  (None, 36, 128)          0         \n",
      " lDropout1D)                                                     \n",
      "                                                                 \n",
      " conv1d_1 (Conv1D)           (None, 32, 64)            41024     \n",
      "                                                                 \n",
      " conv1d_2 (Conv1D)           (None, 30, 64)            12352     \n",
      "                                                                 \n",
      " conv1d_3 (Conv1D)           (None, 29, 64)            8256      \n",
      "                                                                 \n",
      " global_max_pooling1d_1 (Glo  (None, 64)               0         \n",
      " balMaxPooling1D)                                                \n",
      "                                                                 \n",
      " dense_6 (Dense)             (None, 64)                4160      \n",
      "                                                                 \n",
      " dense_7 (Dense)             (None, 2)                 130       \n",
      "                                                                 \n",
      "=================================================================\n",
      "Total params: 1,931,010\n",
      "Trainable params: 1,931,010\n",
      "Non-trainable params: 0\n",
      "_________________________________________________________________\n",
      "None\n",
      "Epoch 1/25\n",
      "\n",
      "Epoch 1: val_accuracy improved from -inf to 0.80456, saving model to model_1d.h5\n",
      "469/469 - 2s - loss: 0.5240 - accuracy: 0.7700 - val_loss: 0.4296 - val_accuracy: 0.8046 - 2s/epoch - 4ms/step\n",
      "Epoch 2/25\n",
      "\n",
      "Epoch 2: val_accuracy improved from 0.80456 to 0.87650, saving model to model_1d.h5\n",
      "469/469 - 2s - loss: 0.2709 - accuracy: 0.8921 - val_loss: 0.3194 - val_accuracy: 0.8765 - 2s/epoch - 3ms/step\n",
      "Epoch 3/25\n",
      "\n",
      "Epoch 3: val_accuracy did not improve from 0.87650\n",
      "469/469 - 1s - loss: 0.0834 - accuracy: 0.9717 - val_loss: 0.3409 - val_accuracy: 0.8741 - 1s/epoch - 3ms/step\n",
      "Epoch 4/25\n",
      "\n",
      "Epoch 4: val_accuracy improved from 0.87650 to 0.88849, saving model to model_1d.h5\n",
      "469/469 - 2s - loss: 0.0356 - accuracy: 0.9893 - val_loss: 0.3890 - val_accuracy: 0.8885 - 2s/epoch - 3ms/step\n",
      "\n",
      "\n",
      "****************************\n",
      "\n",
      "\n",
      "Loading Best Model...\n",
      "27/27 [==============================] - 0s 2ms/step\n",
      "Validation Loss: 0.38895544024100315\n",
      "Test Accuracy 0.8884892086330936\n",
      "F1 Score: 0.8866821191817106\n"
     ]
    }
   ],
   "source": [
    "def model_1d():\n",
    "    \"\"\"\n",
    "    Just for fun below is a model only using covolutions. This is pretty good and also trains very quickly(and predictions would also likely be fast) compared to the LSTM...\n",
    "    It's equivalent to using an n-gram based approach.\n",
    "    Usually in practice you would use a more complex architecture with multiple parallel convolutions that are combined before pooling(and usually both max and avg).\n",
    "    Pure Convolutional NLP is definitely a solution worth exploring further.\n",
    "    \"\"\"\n",
    "    model = Sequential()\n",
    "    model.add(Embedding(input_dim = (len(tokenizer.word_counts) + 1), output_dim = 128, input_length = MAX_SEQ_LEN))\n",
    "    model.add(SpatialDropout1D(0.3))\n",
    "    model.add(Conv1D(64, 5))\n",
    "    model.add(Conv1D(64, 3))\n",
    "    model.add(Conv1D(64, 2))\n",
    "    model.add(GlobalMaxPool1D())\n",
    "    model.add(Dense(64, activation='relu'))\n",
    "    model.add(Dense(2, activation='softmax'))\n",
    "    model.compile(loss='categorical_crossentropy', optimizer='adam', metrics=['accuracy'])\n",
    "    return model\n",
    "\n",
    "\n",
    "m4 = train(model_1d, \n",
    "           train_text_vec,\n",
    "           y_train,\n",
    "           test_text_vec,\n",
    "           y_test,\n",
    "           checkpoint_path='model_1d.h5',\n",
    "           class_weights=cws,\n",
    "           print_summary = True\n",
    "          )"
   ]
  },
  {
   "cell_type": "markdown",
   "metadata": {},
   "source": [
    "### Transfer learning with Glove embeddings"
   ]
  },
  {
   "cell_type": "code",
   "execution_count": 17,
   "metadata": {},
   "outputs": [],
   "source": [
    "def get_coefs(word,*arr): \n",
    "    return word, np.asarray(arr, dtype='float32')\n",
    "\n",
    "def get_embdedings_matrix(embeddings_index, word_index, nb_words = None):\n",
    "    all_embs = np.stack(embeddings_index.values())\n",
    "    print('Shape of Full Embeddding Matrix', all_embs.shape)\n",
    "    embed_dims = all_embs.shape[1]\n",
    "    emb_mean,emb_std = all_embs.mean(), all_embs.std()\n",
    "\n",
    "    #best to free up memory, given the size, which is usually ~3-4GB in memory\n",
    "    del all_embs\n",
    "    if nb_words is None:\n",
    "        nb_words = len(word_index)\n",
    "    else:\n",
    "        nb_words = min(nb_words, len(word_index))\n",
    "    \n",
    "    embedding_matrix = np.random.normal(emb_mean, emb_std, (nb_words, embed_dims))\n",
    "    found_vectors = 0\n",
    "    words_not_found = []\n",
    "    for word, i in tqdm(word_index.items()):\n",
    "        if i >= nb_words: \n",
    "            continue\n",
    "        embedding_vector = None\n",
    "        if word in embeddings_index:\n",
    "            embedding_vector = embeddings_index.get(word)\n",
    "        elif word.lower() in embeddings_index:\n",
    "            embedding_vector = embeddings_index.get(word.lower())\n",
    "        # for twitter check if the key is a hashtag\n",
    "        elif '#'+word.lower() in embeddings_index:\n",
    "            embedding_vector = embeddings_index.get('#'+word.lower())\n",
    "            \n",
    "        if embedding_vector is not None: \n",
    "            found_vectors += 1\n",
    "            embedding_matrix[i] = embedding_vector\n",
    "        else:\n",
    "            words_not_found.append((word, i))\n",
    "\n",
    "    print(\"% of Vectors found in Corpus\", found_vectors / nb_words)\n",
    "    return embedding_matrix, words_not_found"
   ]
  },
  {
   "cell_type": "code",
   "execution_count": 15,
   "metadata": {},
   "outputs": [],
   "source": [
    "def load_glove(word_index):\n",
    "#     print('Loading Glove')\n",
    "    embed_file_path = 'glove.840B.300d.txt'\n",
    "    embeddings_index = dict(get_coefs(*o.split(\" \")) for o in tqdm(open(embed_file_path)))\n",
    "    print(\"Built Embedding Index:\", len(embeddings_index))\n",
    "    return get_embdedings_matrix(embeddings_index, word_index)\n",
    "\n",
    "def load_twitter(word_index):\n",
    "#     print('Loading Twitter')\n",
    "    embed_file_path = 'glove.twitter.27B.200d.txt'\n",
    "    embeddings_index = dict(get_coefs(*o.split(\" \")) for o in tqdm(open(embed_file_path)))\n",
    "    print(\"Built Embedding Index:\", len(embeddings_index))\n",
    "    return get_embdedings_matrix(embeddings_index, word_index)"
   ]
  },
  {
   "cell_type": "code",
   "execution_count": 10,
   "metadata": {},
   "outputs": [
    {
     "name": "stdout",
     "output_type": "stream",
     "text": [
      "Loading Glove Model...\n"
     ]
    },
    {
     "ename": "NameError",
     "evalue": "name 'load_glove' is not defined",
     "output_type": "error",
     "traceback": [
      "\u001b[0;31m---------------------------------------------------------------------------\u001b[0m",
      "\u001b[0;31mNameError\u001b[0m                                 Traceback (most recent call last)",
      "Input \u001b[0;32mIn [10]\u001b[0m, in \u001b[0;36m<cell line: 2>\u001b[0;34m()\u001b[0m\n\u001b[1;32m      1\u001b[0m \u001b[38;5;28mprint\u001b[39m(\u001b[38;5;124m'\u001b[39m\u001b[38;5;124mLoading Glove Model...\u001b[39m\u001b[38;5;124m'\u001b[39m)\n\u001b[0;32m----> 2\u001b[0m glove_embed_matrix, words_not_found \u001b[38;5;241m=\u001b[39m  \u001b[43mload_glove\u001b[49m(tokenizer\u001b[38;5;241m.\u001b[39mword_index)\n",
      "\u001b[0;31mNameError\u001b[0m: name 'load_glove' is not defined"
     ]
    }
   ],
   "source": [
    "print('Loading Glove Model...')\n",
    "glove_embed_matrix, words_not_found =  load_glove(tokenizer.word_index)"
   ]
  },
  {
   "cell_type": "code",
   "execution_count": null,
   "metadata": {},
   "outputs": [],
   "source": []
  }
 ],
 "metadata": {
  "kernelspec": {
   "display_name": "Python 3 (ipykernel)",
   "language": "python",
   "name": "python3"
  },
  "language_info": {
   "codemirror_mode": {
    "name": "ipython",
    "version": 3
   },
   "file_extension": ".py",
   "mimetype": "text/x-python",
   "name": "python",
   "nbconvert_exporter": "python",
   "pygments_lexer": "ipython3",
   "version": "3.9.13"
  },
  "vscode": {
   "interpreter": {
    "hash": "ba5b40e26ba0b0826d90587d8eb33dc6a43854aec369ef6d8d6c42232aa4d3e1"
   }
  }
 },
 "nbformat": 4,
 "nbformat_minor": 2
}
