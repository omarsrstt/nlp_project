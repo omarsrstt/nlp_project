{
 "cells": [
  {
   "cell_type": "code",
   "execution_count": 25,
   "metadata": {},
   "outputs": [],
   "source": [
    "# Importing libraries\n",
    "from typing import List, Tuple, Dict, List\n",
    "import numpy as np"
   ]
  },
  {
   "cell_type": "code",
   "execution_count": 26,
   "metadata": {},
   "outputs": [],
   "source": [
    "class VectorModel:\n",
    "    \n",
    "    def __init__(self, vector_dict: Dict[str, np.ndarray]):\n",
    "        self.index = dict()\n",
    "        self.reverse_index = dict()\n",
    "        arrays = []\n",
    "        for idx, item in enumerate(vector_dict.items()):\n",
    "            word, vec = item\n",
    "            arrays.append(vec)\n",
    "            self.index[word] = idx\n",
    "            self.reverse_index[idx] = word\n",
    "        self.embeddings = np.stack(arrays)\n",
    "        \n",
    "    def embed(self, word: str) -> np.ndarray:\n",
    "        if word in self.index:\n",
    "            return self.embeddings[self.index[word]]\n",
    "    \n",
    "    def vector_size(self) -> int:\n",
    "        return self.embeddings.shape[1]\n",
    "    \n",
    "    def cosine_similarity(self, vec1: np.ndarray, vec2: np.ndarray) -> float:\n",
    "        return np.dot(vec1, vec2) / (np.linalg.norm(vec1) * np.linalg.norm(vec2))\n",
    "\n",
    "    def most_similar(self, word: str, top_n: int=5) -> List[Tuple[str, float]]:\n",
    "        if word not in self.index:\n",
    "            return None\n",
    "        \n",
    "        sims = []\n",
    "        for idx in range(len(self.index)):\n",
    "            sims.append(self.cosine_similarity(self.embed(word), self.embeddings[idx]))\n",
    "        sim = np.array(sims)\n",
    "        top_n += 1\n",
    "        topn_indices = list(np.argpartition(sims, -top_n)[-top_n:])\n",
    "        if self.index[word] in topn_indices:\n",
    "            topn_indices.remove(self.index[word])\n",
    "        else:\n",
    "            topn_indices = topn_indices[:-1]\n",
    "        \n",
    "        result = []\n",
    "        for idx in topn_indices:\n",
    "            result.append((self.reverse_index[idx], sim[idx]))\n",
    "        return sorted(result, key=lambda x: -x[1])\n",
    "        \n",
    "    def most_similar_vec(self, vec: np.ndarray, top_n: int=5) -> List[Tuple[str, float]]:\n",
    "       \n",
    "        sims = []\n",
    "        for idx in range(len(self.index)):\n",
    "            sims.append(self.cosine_similarity(vec, self.embeddings[idx]))\n",
    "        sim = np.array(sims)\n",
    "        topn_indices = list(np.argpartition(sims, -top_n)[-top_n:])\n",
    "        \n",
    "        result = []\n",
    "        for idx in topn_indices:\n",
    "            result.append((self.reverse_index[idx], sim[idx]))\n",
    "        return sorted(result, key=lambda x: -x[1])"
   ]
  },
  {
   "cell_type": "code",
   "execution_count": 27,
   "metadata": {},
   "outputs": [],
   "source": [
    "class SemanticAxis:\n",
    "    \n",
    "    def __init__(self, words, model: VectorModel):\n",
    "        \"\"\"\n",
    "        Args:\n",
    "            model       Gensim Word embedding model\n",
    "            words       List of keywords extracted from the dataset\n",
    "        \"\"\"\n",
    "        self.model = model\n",
    "        self.words = words\n",
    "        self.axis = 0\n",
    "        self.mean = 0\n",
    "        self.std = 0\n",
    "\n",
    "    def cosine_similarity(self, vec1: np.ndarray, vec2: np.ndarray) -> float:\n",
    "        \"\"\" Calculate cosine similarity between two vectors\n",
    "        Parameters\n",
    "        ----------\n",
    "        vec1    np.ndarray\n",
    "        vec2    np.ndarray\n",
    "\n",
    "        Returns\n",
    "        -------\n",
    "        float   Cosine similarity score of the two vectors    \n",
    "        \"\"\"\n",
    "        return np.dot(vec1, vec2) / (np.linalg.norm(vec1) * np.linalg.norm(vec2))\n",
    "    \n",
    "    def fit(\n",
    "            self, \n",
    "            positive_seeds: List[str],\n",
    "            negative_seeds: List[str]):\n",
    "        \"\"\"\n",
    "        Args:\n",
    "            positive_seeds (List[str]) - A list of sarcastic seed words\n",
    "            negative_seeds (List[str]) - A list of non-sarcastic seed words\n",
    "        \"\"\"\n",
    "        positive_centroid = np.array([self.model[seed] for seed in positive_seeds]).sum(axis=0)\n",
    "        negative_centroid = np.array([self.model[seed] for seed in negative_seeds]).sum(axis=0)\n",
    "        \n",
    "        self.axis = positive_centroid - negative_centroid\n",
    "        \n",
    "        scores = dict()\n",
    "        words_to_remove = []\n",
    "\n",
    "        for token in self.words:\n",
    "            # print(token)\n",
    "            # scores[token] = self.model.cosine_similarity(axis, self.model.embed(token))\n",
    "            try:\n",
    "                vector = self.model[token]\n",
    "                scores[token] = self.cosine_similarity(self.axis, vector)\n",
    "            except KeyError:\n",
    "                words_to_remove.append(token)\n",
    "                continue\n",
    "        \n",
    "        # Remove words without embeddings\n",
    "        for word in words_to_remove:\n",
    "            self.words.remove(word)\n",
    "\n",
    "        # Make sure scores have zero mean and unit variance\n",
    "        self.mean = np.mean(list(scores.values()))\n",
    "        self.std = np.std(list(scores.values()))\n",
    "        \n",
    "        return {\n",
    "            token: (score - self.mean) / self.std\n",
    "            for token, score in scores.items()\n",
    "        }\n",
    "\n",
    "    def word_sentiment(self, word):\n",
    "        \"\"\" Evaluate whether the word is sarcastic or not\n",
    "        \"\"\"\n",
    "        try:\n",
    "            vector = self.model[word]\n",
    "            score = (self.cosine_similarity(self.axis, vector) - self.mean)/self.std\n",
    "            verdict = 'Likely sarcastic' if score>0 else 'Likely non-sarcastic'\n",
    "            return (verdict,score)\n",
    "        except KeyError:\n",
    "            print('Word embedding not found')\n",
    "            return ('uncertain', 0)"
   ]
  },
  {
   "cell_type": "code",
   "execution_count": 28,
   "metadata": {},
   "outputs": [],
   "source": [
    "# ! python -m gensim.downloader --info"
   ]
  },
  {
   "attachments": {},
   "cell_type": "markdown",
   "metadata": {},
   "source": [
    "### Choose word embedding model"
   ]
  },
  {
   "cell_type": "code",
   "execution_count": 29,
   "metadata": {},
   "outputs": [],
   "source": [
    "import gensim.downloader as api\n",
    "# Download Word2Vec embeddings\n",
    "model = api.load('word2vec-google-news-300')\n",
    "model_name = 'Word2Vec'\n",
    "# Download glove embeddings\n",
    "# model = api.load('glove-twitter-200')\n",
    "# model_name = 'Glove'"
   ]
  },
  {
   "cell_type": "code",
   "execution_count": 30,
   "metadata": {},
   "outputs": [],
   "source": [
    "vec_sample = model['sample']\n",
    "# model.similarity(w1, w2)\n",
    "# model.most_similar(positive=['car', 'minivan'], topn=5)\n",
    "# model.doesnt_match(['fire', 'water', 'land', 'sea', 'air', 'car'])\n",
    "# print(type(vec_sample), vec_sample.shape, vec_sample)"
   ]
  },
  {
   "attachments": {},
   "cell_type": "markdown",
   "metadata": {},
   "source": [
    "##### Load dataset "
   ]
  },
  {
   "cell_type": "code",
   "execution_count": 31,
   "metadata": {},
   "outputs": [
    {
     "name": "stdout",
     "output_type": "stream",
     "text": [
      "<class 'dict'> 11319\n"
     ]
    }
   ],
   "source": [
    "import json\n",
    "dataset = 'Reddit'\n",
    "with open('../outputs/' + dataset + '.json') as file:\n",
    "    data = json.load(file)\n",
    "num_words = len(data)\n",
    "print(type(data), num_words)"
   ]
  },
  {
   "cell_type": "code",
   "execution_count": 32,
   "metadata": {},
   "outputs": [
    {
     "name": "stdout",
     "output_type": "stream",
     "text": [
      "<class 'list'> 11319\n"
     ]
    }
   ],
   "source": [
    "# Defining number of seeds\n",
    "# if dataset == 'iSarcasmEval':\n",
    "#     multiplier = 0.01\n",
    "# else:\n",
    "#     multiplier = 0.002\n",
    "multiplier = 0.01\n",
    "num_seeds = int(np.ceil(num_words * multiplier))\n",
    "# Sorting all keywords to a list\n",
    "sorted_data = [(key, val) for key, val in sorted(data.items(), key = lambda ele: ele[1])]\n",
    "sorted_words = [elem[0] for elem in sorted_data]\n",
    "print(type(sorted_data), len(sorted_data))"
   ]
  },
  {
   "cell_type": "code",
   "execution_count": 33,
   "metadata": {},
   "outputs": [
    {
     "name": "stdout",
     "output_type": "stream",
     "text": [
      "Negative  Seeds: ['divisible', 'think', 'pretty', 'look', 'actually', 'like', 've', 'say', 'go', 'probably', 'get', 'feel', 'find', 'try', 'read', 'see', 'agree', 'long', 'watch', 'far', 'little', 'hope', 'consider', 'usually', 'play', 'honestly', 'likely', 'start', 'ago', 'ill', 'rave', 'wish', 'kinda', 'close', 'depend', 'believe', 'fuck', 'sad', 'high', 'interesting', 'second', 'thank', 'ask', 'similar', 'imagine', 'weird', 'realize', 'early', 'remind', 'laugh', 'kind', 'old', 'seriously', 'favorite', 'unfortunately', 'late', 'awesome', 'post', 'later', 'especially', 'love', 'assume', 'come', 'mention', 'hit', 'give', 'doubt', 'basically', 'run', 'happy', 'leave', 'different', 'actual', 'check', 'large', 'small', 'near', 'explain', 'soon', 'notice', 'open', 'low', 'currently', 'general', 'lol', 'live', 'generally', 'compare', 'sadly', 'curious', 'hopefully', 'set', 'fucking', 'possible', 'click', 'mind', 'recommend', 'correct', 'end', 'main', 'link', 'use', 'certain', 'refer', 'decent', 'vs', 'pick', 'got', 'imo', 'cheap', 'eat', 'username', 'base', 'call']\n",
      "Positive  Seeds: ['obviously', 'totally', 'clearly', 'sure', 'forget', 'know', 'right', 'need', 'white', 'great', 'racist', 'mean', 'real', 'black', 'dare', 'drop', 'well', 'cause', 'stop', 'definitely', 'poor', 'kill', 'wait', 'free', 'let', 'evil', 'deserve', 'worry', 'pay', 'work', 'make', 'important', 'surely', 'll', 'ruin', 'win', 'gay', 'rape', 'glad', 'good', 'wrong', 'amirite', 'maybe', 'human', 'tell', 'ban', 'safe', 'completely', 'hate', 'liberal', 'silly', 'guess', 'matter', 'sexist', 'allow', 'rich', 'bet', 'sound', 'literally', 'steal', 'protect', 'suppose', 'vote', 'solve', 'super', 'prove', 'shoot', 'confirm', 'filthy', 'oppress', 'bad', 'possibly', 'muslim', 'finally', 'smart', 'count', 'fix', 'perfect', 'care', 'teach', 'global', 'male', 'american', 'damn', 'lazy', 'innocent', 'shut', 'typical', 'lie', 'obvious', 'exist', 'blame', 'fat', 'reasonable', 'superior', 'dirty', 'duh', 'impossible', 'terrible', 'fault', 'offend', 'support', 'spend', 'lets', 'add', 'create', 'save', 'perfectly', 'brown', 'unbiased', 'hard', 'healthy', 'illegal', 'wonderful']\n"
     ]
    }
   ],
   "source": [
    "# Get sarcastic and non-sarcastic seeds\n",
    "non_sarcastic_seeds = []\n",
    "idx = 0\n",
    "while(len(non_sarcastic_seeds)<num_seeds):\n",
    "    try:\n",
    "        _ = model[sorted_data[idx][0]]\n",
    "        non_sarcastic_seeds.append(sorted_data[idx][0])\n",
    "    except:\n",
    "        KeyError\n",
    "    idx += 1\n",
    "\n",
    "sarcastic_seeds = []\n",
    "idx = 0\n",
    "while(len(sarcastic_seeds)<num_seeds):\n",
    "    try:\n",
    "        _ = model[sorted_data[num_words - idx -1][0]]\n",
    "        sarcastic_seeds.append(sorted_data[num_words - idx -1][0])\n",
    "    except KeyError:\n",
    "        pass # do nothing\n",
    "    idx += 1\n",
    "\n",
    "# non_sarcastic_seeds = [sorted_data[idx][0] for idx in range(num_seeds)]\n",
    "print(f\"Negative  Seeds: {non_sarcastic_seeds}\")\n",
    "# sarcastic_seeds = [sorted_data[num_words - idx -1][0] for idx in range(num_seeds)]\n",
    "print(f\"Positive  Seeds: {sarcastic_seeds}\")"
   ]
  },
  {
   "cell_type": "code",
   "execution_count": 39,
   "metadata": {},
   "outputs": [],
   "source": [
    "# help(model.distance)\n",
    "# add_vector\n",
    "# add_vectors\n",
    "# cosine_similarities\n",
    "# distance\n",
    "# distances\n",
    "# most_similar\n",
    "# most_similar_cosmul\n",
    "# most_similar_to_given\n",
    "# n_similarity\n",
    "# similar_by_key\n",
    "# similar_by_vector\n",
    "# similar_by_word\n",
    "# wm_distance"
   ]
  },
  {
   "attachments": {},
   "cell_type": "markdown",
   "metadata": {},
   "source": [
    "### Semantic Axis"
   ]
  },
  {
   "cell_type": "code",
   "execution_count": 35,
   "metadata": {},
   "outputs": [
    {
     "name": "stdout",
     "output_type": "stream",
     "text": [
      "Creating semantic axis using Word2Vec embeddings\n"
     ]
    }
   ],
   "source": [
    "print(f\"Creating semantic axis using {model_name} embeddings\")\n",
    "semantic_model = SemanticAxis(sorted_words, model)\n",
    "sentiment_w2v_axis = semantic_model.fit(sarcastic_seeds, non_sarcastic_seeds)"
   ]
  },
  {
   "cell_type": "code",
   "execution_count": 36,
   "metadata": {},
   "outputs": [
    {
     "name": "stdout",
     "output_type": "stream",
     "text": [
      "['divisible', 'muster', 'zen', 'manifest', 'nonviolent']\n"
     ]
    }
   ],
   "source": [
    "num_samples = 5\n",
    "interval = int(np.floor(len(semantic_model.words)/5))\n",
    "sample_words = [semantic_model.words[max(i-2, 0)] for i in range(0, len(semantic_model.words), interval)]\n",
    "if dataset == 'iSarcasmEval':\n",
    "    sample_words = ['kinda', 'share', 'interested', 'spotify', 'die', 'poor']\n",
    "if dataset == 'Reddit':\n",
    "    sample_words = ['divisible', 'muster', 'zen', 'manifest', 'nonviolent']\n",
    "\n",
    "print(sample_words)"
   ]
  },
  {
   "cell_type": "code",
   "execution_count": 37,
   "metadata": {},
   "outputs": [
    {
     "name": "stdout",
     "output_type": "stream",
     "text": [
      "[-0.37690574, -0.6481519, -0.5263483, -0.44920623, 0.86358756]\n"
     ]
    },
    {
     "data": {
      "image/png": "[encoded data removed]",
      "text/plain": [
       "<Figure size 1400x200 with 1 Axes>"
      ]
     },
     "metadata": {},
     "output_type": "display_data"
    }
   ],
   "source": [
    "# Plotting the examples\n",
    "import matplotlib.pyplot as plt\n",
    "sarcasm_evaluations = [semantic_model.word_sentiment(word) for word in sample_words]\n",
    "scores = [res[1] for res in sarcasm_evaluations]\n",
    "# scores = [sentiment_w2v_axis[word] for word in sample_words]\n",
    "y = [1] * len(scores)\n",
    "print(scores)\n",
    "plt.figure(figsize=(14,2))\n",
    "plt.xlabel('<- Non-sarcastic | Sarcastic ->')\n",
    "plt.title('Word inclination towards sarcasm using ' + model_name + ' embeddings on ' + dataset + ' dataset')\n",
    "plt.scatter(scores, y)\n",
    "plt.yticks([])\n",
    "plt.xticks(scores, labels= sample_words)\n",
    "plt.grid()\n",
    "plt.savefig('../outputs/'+\"_\".join([dataset, model_name, 'semantic_axis'])+'.pdf', bbox_inches='tight')\n",
    "plt.show()"
   ]
  },
  {
   "attachments": {},
   "cell_type": "markdown",
   "metadata": {},
   "source": [
    "### Sentiment Propagation"
   ]
  },
  {
   "cell_type": "code",
   "execution_count": 38,
   "metadata": {},
   "outputs": [],
   "source": [
    "class SentimentPropagation:\n",
    "    \"\"\"\n",
    "    Sentiment Propagation according to Hamilton et al (2016)\n",
    "    https://doi.org/10.18653/v1/D16-1057\n",
    "    \"\"\"\n",
    "    \n",
    "    def __init__(self, model, words)#embedding_dict: Dict[str, np.ndarray]):\n",
    "        \"\"\"\n",
    "        Args:\n",
    "            model       Gensim Word embedding model\n",
    "            words       List of keywords extracted from the dataset\n",
    "        \"\"\"\n",
    "        self.word_index = dict()\n",
    "        self.index_word = dict()\n",
    "        self.embeddings = list()\n",
    "        self.model = model\n",
    "        self.words = words\n",
    "        # for idx, item in enumerate(embedding_dict.items()):\n",
    "        #     token, embedding = item\n",
    "        #     self.embeddings.append(embedding)\n",
    "        #     self.word_index[token] = idx\n",
    "        \n",
    "        # Create embedding list and word_index dict\n",
    "        remove_list = []\n",
    "        idx_corr = 0\n",
    "        for idx, word in enumerate(self.words):\n",
    "            try:\n",
    "                self.embeddings.append(self.model[word])\n",
    "                self.word_index[word] = idx - idx_corr\n",
    "            except KeyError:\n",
    "                idx_corr += 1\n",
    "                remove_list.append(word)\n",
    "                continue\n",
    "        \n",
    "        # Remove words without embeddings\n",
    "        for del_word in remove_list:\n",
    "            self.words.remove(del_word)\n",
    "\n",
    "        self.embeddings = np.stack(self.embeddings)\n",
    "        self.vocab_size = len(self.word_index)\n",
    "\n",
    "        \n",
    "    def edge_matrix(self, n_neighbors:int=10) -> np.ndarray:\n",
    "        \"\"\"\n",
    "        Construct the graph edge matrix where:\n",
    "        E[i, j] = arccos(-(w[i].T @ w[j]) / (norm(w[i]) * norm(w[j])))\n",
    "        \n",
    "        Args:\n",
    "            n_neighbors (int) - The number of neighbors each vertex in the graph has\n",
    "        Returns:\n",
    "            (np.ndarray)      - The edge matrix\n",
    "        \"\"\"\n",
    "        product = self.embeddings @ self.embeddings.T\n",
    "        normed = np.linalg.norm(self.embeddings, axis=1).reshape(-1, 1)\n",
    "        norm_product = normed @ normed.T\n",
    "        arg = (product / norm_product)\n",
    "        np.fill_diagonal(arg, 0)\n",
    "        for idx, row in enumerate(arg):\n",
    "            arg[idx, np.argsort(row)[:-20]] = 0\n",
    "        return np.arccos(-arg.clip(-1, 1))\n",
    "    \n",
    "    def transition_matrix(self, edge_matrix: np.ndarray) -> np.ndarray:\n",
    "        \"\"\"\n",
    "        Construct the transition matrix T from the edge matrix\n",
    "        \n",
    "        In contrast to the paper we use 1/s here (maybe an error in the paper?)\n",
    "        \n",
    "        Args:\n",
    "            edge_matrix (np.ndarray) - edge_matrix\n",
    "        Returns:\n",
    "            (np.ndarray)             - The transition matrix\n",
    "        \"\"\"\n",
    "        diag = np.diag([1/s if s > 0 else 0 for s in edge_matrix.sum(axis=0)])**(1/2)\n",
    "        return diag @ edge_matrix @ diag\n",
    "    \n",
    "    def run(self, \n",
    "            T: np.ndarray, s: np.ndarray, p: np.ndarray, \n",
    "            beta: float, eps: float, max_iter: int) -> np.ndarray:\n",
    "        \"\"\"\n",
    "        Update p until convergence\n",
    "        \n",
    "        Args:\n",
    "            T (np.ndarray) - Transition matrix\n",
    "            s (np.ndarray) - Seed vector\n",
    "            p (np.ndarray) - Word-Sentiment vector\n",
    "            beta (float)   - Local consistency vs. global consistency\n",
    "            eps (float)    - Convergence criterium\n",
    "            max_iter (int) - Convergence criterium\n",
    "        Returns:\n",
    "            p (np.ndarray) - Learned word-sentiment vector\n",
    "        \"\"\"\n",
    "        for i in range(max_iter):\n",
    "            new_p = (beta * T @ p + (1 - beta) * s)\n",
    "            if np.abs(new_p - p).sum() < eps:\n",
    "                break\n",
    "            p = new_p\n",
    "        return p\n",
    "    \n",
    "    def fit(self, \n",
    "              positive_seeds: List[str],\n",
    "              negative_seeds: List[str], \n",
    "              beta: float=0.1, \n",
    "              n_neighbors: int=10, \n",
    "              eps:float=1e-6,\n",
    "              max_iter:int=100) -> Dict[str, float]:\n",
    "        \"\"\"\n",
    "        Learn sentiment scores\n",
    "        \n",
    "        Args:\n",
    "            positive_seeds (List[str]) - A list of positive seed words (sarcastic)\n",
    "            negative_seeds (List[str]) - A list of negative seed words (non-sarcastic)\n",
    "            beta (float)               - Local consistency vs. global consistency\n",
    "            n_neighbors (int)          - The number of neighbors each vertex in the graph has\n",
    "            eps (float)                - Convergence criterium\n",
    "            max_iter (int)             - Convergence criterium\n",
    "        Returns:\n",
    "            (Dict[str, float])         - A dictionary containing the learned sentiment scores\n",
    "                                         with zero mean and unit variance\n",
    "        \"\"\"\n",
    "        T = self.transition_matrix(self.edge_matrix(n_neighbors))\n",
    "        \n",
    "        s_positive = np.zeros(self.vocab_size)\n",
    "        s_negative = np.zeros(self.vocab_size)\n",
    "        \n",
    "        s_positive[[self.word_index[seed] for seed in positive_seeds]] = 1 / len(positive_seeds)\n",
    "        s_negative[[self.word_index[seed] for seed in negative_seeds]] = 1 / len(negative_seeds)\n",
    "        \n",
    "        p_positive = self.run(\n",
    "            T, s_positive.reshape(-1, 1), \n",
    "            np.ones((self.vocab_size, 1)) / self.vocab_size, \n",
    "            beta, eps, max_iter\n",
    "        )\n",
    "        p_negative = self.run(\n",
    "            T, s_negative.reshape(-1, 1),\n",
    "            np.ones((self.vocab_size, 1)) / self.vocab_size,\n",
    "            beta, eps, max_iter\n",
    "        )\n",
    "        \n",
    "        score = p_positive / (p_positive + p_negative)\n",
    "        # Make sure scores have zero mean and unit variance\n",
    "        score = score - np.mean(score)\n",
    "        score = score / np.std(score)\n",
    "        \n",
    "        # Construct dictionary\n",
    "        sentiment = dict()\n",
    "        for token, idx in self.word_index.items():\n",
    "            sentiment[token] = score[idx].item()\n",
    "            \n",
    "        return sentiment"
   ]
  },
  {
   "cell_type": "code",
   "execution_count": null,
   "metadata": {},
   "outputs": [],
   "source": []
  }
 ],
 "metadata": {
  "kernelspec": {
   "display_name": "nlp",
   "language": "python",
   "name": "python3"
  },
  "language_info": {
   "codemirror_mode": {
    "name": "ipython",
    "version": 3
   },
   "file_extension": ".py",
   "mimetype": "text/x-python",
   "name": "python",
   "nbconvert_exporter": "python",
   "pygments_lexer": "ipython3",
   "version": "3.8.15"
  },
  "orig_nbformat": 4,
  "vscode": {
   "interpreter": {
    "hash": "e1961965754ed221a7c2fee85a9c41d05a1f66bee8023eccc6a7de6892ab367c"
   }
  }
 },
 "nbformat": 4,
 "nbformat_minor": 2
}
