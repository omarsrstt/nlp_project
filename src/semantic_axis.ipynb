{
 "cells": [
  {
   "cell_type": "code",
   "execution_count": 1,
   "metadata": {},
   "outputs": [],
   "source": [
    "# Importing libraries\n",
    "from typing import List, Tuple, Dict, List\n",
    "import numpy as np"
   ]
  },
  {
   "cell_type": "code",
   "execution_count": 2,
   "metadata": {},
   "outputs": [],
   "source": [
    "class VectorModel:\n",
    "    \n",
    "    def __init__(self, vector_dict: Dict[str, np.ndarray]):\n",
    "        self.index = dict()\n",
    "        self.reverse_index = dict()\n",
    "        arrays = []\n",
    "        for idx, item in enumerate(vector_dict.items()):\n",
    "            word, vec = item\n",
    "            arrays.append(vec)\n",
    "            self.index[word] = idx\n",
    "            self.reverse_index[idx] = word\n",
    "        self.embeddings = np.stack(arrays)\n",
    "        \n",
    "    def embed(self, word: str) -> np.ndarray:\n",
    "        if word in self.index:\n",
    "            return self.embeddings[self.index[word]]\n",
    "    \n",
    "    def vector_size(self) -> int:\n",
    "        return self.embeddings.shape[1]\n",
    "    \n",
    "    def cosine_similarity(self, vec1: np.ndarray, vec2: np.ndarray) -> float:\n",
    "        return np.dot(vec1, vec2) / (np.linalg.norm(vec1) * np.linalg.norm(vec2))\n",
    "\n",
    "    def most_similar(self, word: str, top_n: int=5) -> List[Tuple[str, float]]:\n",
    "        if word not in self.index:\n",
    "            return None\n",
    "        \n",
    "        sims = []\n",
    "        for idx in range(len(self.index)):\n",
    "            sims.append(self.cosine_similarity(self.embed(word), self.embeddings[idx]))\n",
    "        sim = np.array(sims)\n",
    "        top_n += 1\n",
    "        topn_indices = list(np.argpartition(sims, -top_n)[-top_n:])\n",
    "        if self.index[word] in topn_indices:\n",
    "            topn_indices.remove(self.index[word])\n",
    "        else:\n",
    "            topn_indices = topn_indices[:-1]\n",
    "        \n",
    "        result = []\n",
    "        for idx in topn_indices:\n",
    "            result.append((self.reverse_index[idx], sim[idx]))\n",
    "        return sorted(result, key=lambda x: -x[1])\n",
    "        \n",
    "    def most_similar_vec(self, vec: np.ndarray, top_n: int=5) -> List[Tuple[str, float]]:\n",
    "       \n",
    "        sims = []\n",
    "        for idx in range(len(self.index)):\n",
    "            sims.append(self.cosine_similarity(vec, self.embeddings[idx]))\n",
    "        sim = np.array(sims)\n",
    "        topn_indices = list(np.argpartition(sims, -top_n)[-top_n:])\n",
    "        \n",
    "        result = []\n",
    "        for idx in topn_indices:\n",
    "            result.append((self.reverse_index[idx], sim[idx]))\n",
    "        return sorted(result, key=lambda x: -x[1])"
   ]
  },
  {
   "cell_type": "code",
   "execution_count": 46,
   "metadata": {},
   "outputs": [],
   "source": [
    "class SemanticAxis:\n",
    "    \n",
    "    def __init__(self, words, model: VectorModel):\n",
    "        \"\"\"\n",
    "        Args:\n",
    "            embedding_dict (Dict[str, np.ndarray]) - A dictionary of embedding vectors\n",
    "        \"\"\"\n",
    "        self.model = model\n",
    "        self.words = words\n",
    "        self.axis = 0\n",
    "        self.mean = 0\n",
    "        self.std = 0\n",
    "\n",
    "    def cosine_similarity(self, vec1: np.ndarray, vec2: np.ndarray) -> float:\n",
    "        return np.dot(vec1, vec2) / (np.linalg.norm(vec1) * np.linalg.norm(vec2))\n",
    "    \n",
    "    def fit(\n",
    "            self, \n",
    "            positive_seeds: List[str],\n",
    "            negative_seeds: List[str]):\n",
    "        \"\"\"\n",
    "        Args:\n",
    "            positive_seeds (Dict[str, np.ndarray]) - A dictionary of embedding vectors\n",
    "        \"\"\"\n",
    "        positive_centroid = np.array([self.model[seed] for seed in positive_seeds]).sum(axis=0)\n",
    "        negative_centroid = np.array([self.model[seed] for seed in negative_seeds]).sum(axis=0)\n",
    "        \n",
    "        self.axis = positive_centroid - negative_centroid\n",
    "        \n",
    "        scores = dict()\n",
    "        words_to_remove = []\n",
    "\n",
    "        for token in self.words:\n",
    "            # print(token)\n",
    "            # scores[token] = self.model.cosine_similarity(axis, self.model.embed(token))\n",
    "            try:\n",
    "                vector = self.model[token]\n",
    "                scores[token] = self.cosine_similarity(self.axis, vector)\n",
    "            except KeyError:\n",
    "                words_to_remove.append(token)\n",
    "                continue\n",
    "        \n",
    "        # Remove words without embeddings\n",
    "        for word in words_to_remove:\n",
    "            self.words.remove(word)\n",
    "\n",
    "        # Make sure scores have zero mean and unit variance\n",
    "        self.mean = np.mean(list(scores.values()))\n",
    "        self.std = np.std(list(scores.values()))\n",
    "        \n",
    "        return {\n",
    "            token: (score - self.mean) / self.std\n",
    "            for token, score in scores.items()\n",
    "        }\n",
    "\n",
    "    def word_sentiment(self, word):\n",
    "        \"\"\" Evaluate whether the word is sarcastic or not\n",
    "        \"\"\"\n",
    "        try:\n",
    "            vector = self.model[word]\n",
    "            score = (self.cosine_similarity(self.axis, vector) - self.mean)/self.std\n",
    "            verdict = 'Likely sarcastic' if score>0 else 'Likely non-sarcastic'\n",
    "            return (verdict,score)\n",
    "        except KeyError:\n",
    "            print('Word embedding not found')\n",
    "            return ('uncertain', 0)"
   ]
  },
  {
   "cell_type": "code",
   "execution_count": 5,
   "metadata": {},
   "outputs": [],
   "source": [
    "# ! python -m gensim.downloader --info"
   ]
  },
  {
   "cell_type": "code",
   "execution_count": 30,
   "metadata": {},
   "outputs": [],
   "source": [
    "import gensim.downloader as api\n",
    "# Download Word2Vec embeddings\n",
    "model = api.load('word2vec-google-news-300')\n",
    "model_name = 'Word2Vec'\n",
    "# Download glove embeddings\n",
    "# model = api.load('glove-twitter-200')\n",
    "# model_name = 'Glove'"
   ]
  },
  {
   "cell_type": "code",
   "execution_count": 8,
   "metadata": {},
   "outputs": [],
   "source": [
    "vec_sample = model['sample']\n",
    "# model.similarity(w1, w2)\n",
    "# model.most_similar(positive=['car', 'minivan'], topn=5)\n",
    "# model.doesnt_match(['fire', 'water', 'land', 'sea', 'air', 'car'])\n",
    "# print(type(vec_sample), vec_sample.shape, vec_sample)"
   ]
  },
  {
   "attachments": {},
   "cell_type": "markdown",
   "metadata": {},
   "source": [
    "### Semantic Axis\n",
    "##### Twitter dataset "
   ]
  },
  {
   "cell_type": "code",
   "execution_count": 78,
   "metadata": {},
   "outputs": [
    {
     "name": "stdout",
     "output_type": "stream",
     "text": [
      "<class 'dict'> 399\n"
     ]
    }
   ],
   "source": [
    "import json\n",
    "dataset = 'iSarcasmEval'\n",
    "with open('../outputs/' + dataset + '.json') as file:\n",
    "    data = json.load(file)\n",
    "num_words = len(data)\n",
    "print(type(data), num_words)"
   ]
  },
  {
   "cell_type": "code",
   "execution_count": 57,
   "metadata": {},
   "outputs": [
    {
     "name": "stdout",
     "output_type": "stream",
     "text": [
      "<class 'list'> 399\n"
     ]
    }
   ],
   "source": [
    "# Defining number of seeds\n",
    "num_seeds = int(np.ceil(num_words * 0.01))\n",
    "# Sorting all keywords to a list\n",
    "sorted_data = [(key, val) for key, val in sorted(data.items(), key = lambda ele: ele[1])]\n",
    "sorted_words = [elem[0] for elem in sorted_data]\n",
    "print(type(sorted_data), len(sorted_data))"
   ]
  },
  {
   "cell_type": "code",
   "execution_count": 32,
   "metadata": {},
   "outputs": [
    {
     "name": "stdout",
     "output_type": "stream",
     "text": [
      "Negative  Seeds: ['kinda', 'want', 'miss', 've']\n",
      "Positive  Seeds: ['love', 'wait', 'decide', 'poor']\n"
     ]
    }
   ],
   "source": [
    "# Get sarcastic and non-sarcastic seeds\n",
    "non_sarcastic_seeds = []\n",
    "idx = 0\n",
    "while(len(non_sarcastic_seeds)<num_seeds):\n",
    "    try:\n",
    "        _ = model[sorted_data[idx][0]]\n",
    "        non_sarcastic_seeds.append(sorted_data[idx][0])\n",
    "    except:\n",
    "        KeyError\n",
    "    idx += 1\n",
    "\n",
    "sarcastic_seeds = []\n",
    "idx = 0\n",
    "while(len(sarcastic_seeds)<num_seeds):\n",
    "    try:\n",
    "        _ = model[sorted_data[num_words - idx -1][0]]\n",
    "        sarcastic_seeds.append(sorted_data[num_words - idx -1][0])\n",
    "    except KeyError:\n",
    "        pass # do nothing\n",
    "    idx += 1\n",
    "\n",
    "# non_sarcastic_seeds = [sorted_data[idx][0] for idx in range(num_seeds)]\n",
    "print(f\"Negative  Seeds: {non_sarcastic_seeds}\")\n",
    "# sarcastic_seeds = [sorted_data[num_words - idx -1][0] for idx in range(num_seeds)]\n",
    "print(f\"Positive  Seeds: {sarcastic_seeds}\")"
   ]
  },
  {
   "cell_type": "code",
   "execution_count": 41,
   "metadata": {},
   "outputs": [
    {
     "name": "stdout",
     "output_type": "stream",
     "text": [
      "Help on method distance in module gensim.models.keyedvectors:\n",
      "\n",
      "distance(w1, w2) method of gensim.models.keyedvectors.KeyedVectors instance\n",
      "    Compute cosine distance between two keys.\n",
      "    Calculate 1 - :meth:`~gensim.models.keyedvectors.KeyedVectors.similarity`.\n",
      "    \n",
      "    Parameters\n",
      "    ----------\n",
      "    w1 : str\n",
      "        Input key.\n",
      "    w2 : str\n",
      "        Input key.\n",
      "    \n",
      "    Returns\n",
      "    -------\n",
      "    float\n",
      "        Distance between `w1` and `w2`.\n",
      "\n"
     ]
    }
   ],
   "source": [
    "help(model.distance)\n",
    "# add_vector\n",
    "# add_vectors\n",
    "# cosine_similarities\n",
    "# distance\n",
    "# distances\n",
    "# most_similar\n",
    "# most_similar_cosmul\n",
    "# most_similar_to_given\n",
    "# n_similarity\n",
    "# similar_by_key\n",
    "# similar_by_vector\n",
    "# similar_by_word\n",
    "# wm_distance"
   ]
  },
  {
   "cell_type": "code",
   "execution_count": 58,
   "metadata": {},
   "outputs": [
    {
     "name": "stdout",
     "output_type": "stream",
     "text": [
      "Creating semantic axis using Glove embeddings\n"
     ]
    }
   ],
   "source": [
    "print(f\"Creating semantic axis using {model_name} embeddings\")\n",
    "semantic_model = SemanticAxis(sorted_words, model)\n",
    "sentiment_w2v_axis = semantic_model.fit(sarcastic_seeds, non_sarcastic_seeds)"
   ]
  },
  {
   "cell_type": "code",
   "execution_count": 60,
   "metadata": {},
   "outputs": [],
   "source": [
    "num_samples = 5\n",
    "interval = int(np.floor(len(semantic_model.words)/5))\n",
    "sample_words = [semantic_model.words[max(i-1, 0)] for i in range(0, len(semantic_model.words), interval)]"
   ]
  },
  {
   "cell_type": "code",
   "execution_count": 83,
   "metadata": {},
   "outputs": [
    {
     "name": "stdout",
     "output_type": "stream",
     "text": [
      "[-3.7915757, 0.7233091, -1.2690088, -0.70320016, -1.8199475, 3.0517087]\n"
     ]
    },
    {
     "data": {
      "image/png": "[encoded data removed]",
      "text/plain": [
       "<Figure size 1400x200 with 1 Axes>"
      ]
     },
     "metadata": {},
     "output_type": "display_data"
    }
   ],
   "source": [
    "# Plotting the examples\n",
    "import matplotlib.pyplot as plt\n",
    "sarcasm_evaluations = [semantic_model.word_sentiment(word) for word in sample_words]\n",
    "scores = [res[1] for res in sarcasm_evaluations]\n",
    "# scores = [sentiment_w2v_axis[word] for word in sample_words]\n",
    "y = [1] * len(scores)\n",
    "print(scores)\n",
    "plt.figure(figsize=(14,2))\n",
    "plt.xlabel('<- Non-sarcastic | Sarcastic ->')\n",
    "plt.scatter(scores, y)\n",
    "plt.yticks([])\n",
    "plt.xticks(scores, labels= sample_words)\n",
    "plt.grid()\n",
    "plt.savefig('../outputs/'+\"_\".join([dataset, model_name, 'semantic_axis'])+'.pdf', bbox_inches='tight')\n",
    "plt.show()"
   ]
  },
  {
   "cell_type": "code",
   "execution_count": 61,
   "metadata": {},
   "outputs": [
    {
     "data": {
      "text/plain": [
       "[10, 10]"
      ]
     },
     "execution_count": 61,
     "metadata": {},
     "output_type": "execute_result"
    }
   ],
   "source": []
  }
 ],
 "metadata": {
  "kernelspec": {
   "display_name": "nlp",
   "language": "python",
   "name": "python3"
  },
  "language_info": {
   "codemirror_mode": {
    "name": "ipython",
    "version": 3
   },
   "file_extension": ".py",
   "mimetype": "text/x-python",
   "name": "python",
   "nbconvert_exporter": "python",
   "pygments_lexer": "ipython3",
   "version": "3.8.15"
  },
  "orig_nbformat": 4,
  "vscode": {
   "interpreter": {
    "hash": "e1961965754ed221a7c2fee85a9c41d05a1f66bee8023eccc6a7de6892ab367c"
   }
  }
 },
 "nbformat": 4,
 "nbformat_minor": 2
}
