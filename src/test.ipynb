{
 "cells": [
  {
   "cell_type": "code",
   "execution_count": 58,
   "metadata": {},
   "outputs": [],
   "source": [
    "import pandas as pd\n",
    "import numpy as np\n",
    "import matplotlib.pyplot as plt\n",
    "from pathlib import Path\n",
    "import os\n",
    "import tweepy\n",
    "from collections import Counter\n",
    "from tqdm import tqdm\n",
    "from time import sleep"
   ]
  },
  {
   "cell_type": "code",
   "execution_count": 53,
   "metadata": {},
   "outputs": [],
   "source": [
    "path_to_datasets = Path(os.getcwd()).parent / 'data'\n",
    "path_to_isarcasm = path_to_datasets / 'iSarcasm'\n",
    "path_to_isarcasm_test = path_to_isarcasm / 'isarcasm_test.csv'\n",
    "path_to_isarcasm_train = path_to_isarcasm / 'isarcasm_train.csv'"
   ]
  },
  {
   "cell_type": "code",
   "execution_count": 54,
   "metadata": {},
   "outputs": [
    {
     "data": {
      "text/html": [
       "<div>\n",
       "<style scoped>\n",
       "    .dataframe tbody tr th:only-of-type {\n",
       "        vertical-align: middle;\n",
       "    }\n",
       "\n",
       "    .dataframe tbody tr th {\n",
       "        vertical-align: top;\n",
       "    }\n",
       "\n",
       "    .dataframe thead th {\n",
       "        text-align: right;\n",
       "    }\n",
       "</style>\n",
       "<table border=\"1\" class=\"dataframe\">\n",
       "  <thead>\n",
       "    <tr style=\"text-align: right;\">\n",
       "      <th></th>\n",
       "      <th>tweet_id</th>\n",
       "      <th>sarcasm_label</th>\n",
       "      <th>sarcasm_type</th>\n",
       "    </tr>\n",
       "  </thead>\n",
       "  <tbody>\n",
       "    <tr>\n",
       "      <th>0</th>\n",
       "      <td>992251158159765504</td>\n",
       "      <td>not_sarcastic</td>\n",
       "      <td>NaN</td>\n",
       "    </tr>\n",
       "    <tr>\n",
       "      <th>1</th>\n",
       "      <td>1084373658745876480</td>\n",
       "      <td>not_sarcastic</td>\n",
       "      <td>NaN</td>\n",
       "    </tr>\n",
       "    <tr>\n",
       "      <th>2</th>\n",
       "      <td>812181186</td>\n",
       "      <td>not_sarcastic</td>\n",
       "      <td>NaN</td>\n",
       "    </tr>\n",
       "    <tr>\n",
       "      <th>3</th>\n",
       "      <td>1090276741329928194</td>\n",
       "      <td>not_sarcastic</td>\n",
       "      <td>NaN</td>\n",
       "    </tr>\n",
       "    <tr>\n",
       "      <th>4</th>\n",
       "      <td>553070692682723329</td>\n",
       "      <td>sarcastic</td>\n",
       "      <td>sarcasm</td>\n",
       "    </tr>\n",
       "    <tr>\n",
       "      <th>5</th>\n",
       "      <td>656305619268296704</td>\n",
       "      <td>not_sarcastic</td>\n",
       "      <td>NaN</td>\n",
       "    </tr>\n",
       "    <tr>\n",
       "      <th>6</th>\n",
       "      <td>657590181873094656</td>\n",
       "      <td>not_sarcastic</td>\n",
       "      <td>NaN</td>\n",
       "    </tr>\n",
       "    <tr>\n",
       "      <th>7</th>\n",
       "      <td>1090351571395899392</td>\n",
       "      <td>sarcastic</td>\n",
       "      <td>irony</td>\n",
       "    </tr>\n",
       "    <tr>\n",
       "      <th>8</th>\n",
       "      <td>914961092698353664</td>\n",
       "      <td>not_sarcastic</td>\n",
       "      <td>NaN</td>\n",
       "    </tr>\n",
       "    <tr>\n",
       "      <th>9</th>\n",
       "      <td>4462049401</td>\n",
       "      <td>sarcastic</td>\n",
       "      <td>sarcasm</td>\n",
       "    </tr>\n",
       "  </tbody>\n",
       "</table>\n",
       "</div>"
      ],
      "text/plain": [
       "              tweet_id  sarcasm_label sarcasm_type\n",
       "0   992251158159765504  not_sarcastic          NaN\n",
       "1  1084373658745876480  not_sarcastic          NaN\n",
       "2            812181186  not_sarcastic          NaN\n",
       "3  1090276741329928194  not_sarcastic          NaN\n",
       "4   553070692682723329      sarcastic      sarcasm\n",
       "5   656305619268296704  not_sarcastic          NaN\n",
       "6   657590181873094656  not_sarcastic          NaN\n",
       "7  1090351571395899392      sarcastic        irony\n",
       "8   914961092698353664  not_sarcastic          NaN\n",
       "9           4462049401      sarcastic      sarcasm"
      ]
     },
     "execution_count": 54,
     "metadata": {},
     "output_type": "execute_result"
    }
   ],
   "source": [
    "### Load the train data\n",
    "train_frame = pd.read_csv(path_to_isarcasm_train)\n",
    "train_frame.head(10)"
   ]
  },
  {
   "cell_type": "code",
   "execution_count": 55,
   "metadata": {},
   "outputs": [],
   "source": [
    "## Twitter access tokens and keys\n",
    "\n",
    "bearer_token_ = \"############\"\n",
    "consumer_key = \"############\"\n",
    "consumer_secret = \"############\"\n",
    "access_token = \"############\"\n",
    "access_token_secret = \"############\""
   ]
  },
  {
   "cell_type": "code",
   "execution_count": 56,
   "metadata": {},
   "outputs": [],
   "source": [
    "auth = tweepy.OAuth1UserHandler(\n",
    "   consumer_key, consumer_secret, access_token, access_token_secret\n",
    ")\n",
    "\n",
    "api = tweepy.API(auth)\n",
    "\n",
    "# public_tweets = api.home_timeline()\n",
    "# for tweet in public_tweets:\n",
    "#     print(tweet.text)"
   ]
  },
  {
   "cell_type": "code",
   "execution_count": 60,
   "metadata": {},
   "outputs": [
    {
     "ename": "TooManyRequests",
     "evalue": "429 Too Many Requests\nToo Many Requests",
     "output_type": "error",
     "traceback": [
      "\u001b[1;31m---------------------------------------------------------------------------\u001b[0m",
      "\u001b[1;31mTooManyRequests\u001b[0m                           Traceback (most recent call last)",
      "Cell \u001b[1;32mIn[60], line 4\u001b[0m\n\u001b[0;32m      1\u001b[0m client \u001b[39m=\u001b[39m tweepy\u001b[39m.\u001b[39mClient(bearer_token\u001b[39m=\u001b[39mbearer_token_)\n\u001b[0;32m      2\u001b[0m \u001b[39m# for tweet_id in train_frame['tweet_id'][:15]:\u001b[39;00m\n\u001b[0;32m      3\u001b[0m \u001b[39m#     print(client.get_tweet(tweet_id).data)\u001b[39;00m\n\u001b[1;32m----> 4\u001b[0m client\u001b[39m.\u001b[39;49mget_tweet(train_frame[\u001b[39m'\u001b[39;49m\u001b[39mtweet_id\u001b[39;49m\u001b[39m'\u001b[39;49m][\u001b[39m0\u001b[39;49m])\u001b[39m.\u001b[39mdata\n\u001b[0;32m      6\u001b[0m \u001b[39m# list_ = []\u001b[39;00m\n\u001b[0;32m      7\u001b[0m \u001b[39m# for tweet_id in tqdm(train_frame['tweet_id']):\u001b[39;00m\n\u001b[0;32m      8\u001b[0m \u001b[39m#     if client.get_tweet(tweet_id).data != None:\u001b[39;00m\n\u001b[1;32m   (...)\u001b[0m\n\u001b[0;32m     12\u001b[0m \u001b[39m# list_ = [client.get_tweet(tweet_id).data for tweet_id in tqdm(train_frame['tweet_id']) if client.get_tweet(tweet_id).data != None]\u001b[39;00m\n\u001b[0;32m     13\u001b[0m \u001b[39m# print(client.get_tweet(train_frame['tweet_id'][0]).data)\u001b[39;00m\n",
      "File \u001b[1;32mc:\\Users\\omars\\miniconda3\\envs\\nlp\\lib\\site-packages\\tweepy\\client.py:1773\u001b[0m, in \u001b[0;36mClient.get_tweet\u001b[1;34m(self, id, user_auth, **params)\u001b[0m\n\u001b[0;32m   1736\u001b[0m \u001b[39mdef\u001b[39;00m \u001b[39mget_tweet\u001b[39m(\u001b[39mself\u001b[39m, \u001b[39mid\u001b[39m, \u001b[39m*\u001b[39m, user_auth\u001b[39m=\u001b[39m\u001b[39mFalse\u001b[39;00m, \u001b[39m*\u001b[39m\u001b[39m*\u001b[39mparams):\n\u001b[0;32m   1737\u001b[0m     \u001b[39m\"\"\"get_tweet( \\\u001b[39;00m\n\u001b[0;32m   1738\u001b[0m \u001b[39m        id, *, expansions=None, media_fields=None, place_fields=None, \\\u001b[39;00m\n\u001b[0;32m   1739\u001b[0m \u001b[39m        poll_fields=None, tweet_fields=None, user_fields=None, \\\u001b[39;00m\n\u001b[1;32m   (...)\u001b[0m\n\u001b[0;32m   1771\u001b[0m \u001b[39m    https://developer.twitter.com/en/docs/twitter-api/tweets/lookup/api-reference/get-tweets-id\u001b[39;00m\n\u001b[0;32m   1772\u001b[0m \u001b[39m    \"\"\"\u001b[39;00m\n\u001b[1;32m-> 1773\u001b[0m     \u001b[39mreturn\u001b[39;00m \u001b[39mself\u001b[39;49m\u001b[39m.\u001b[39;49m_make_request(\n\u001b[0;32m   1774\u001b[0m         \u001b[39m\"\u001b[39;49m\u001b[39mGET\u001b[39;49m\u001b[39m\"\u001b[39;49m, \u001b[39mf\u001b[39;49m\u001b[39m\"\u001b[39;49m\u001b[39m/2/tweets/\u001b[39;49m\u001b[39m{\u001b[39;49;00m\u001b[39mid\u001b[39;49m\u001b[39m}\u001b[39;49;00m\u001b[39m\"\u001b[39;49m, params\u001b[39m=\u001b[39;49mparams,\n\u001b[0;32m   1775\u001b[0m         endpoint_parameters\u001b[39m=\u001b[39;49m(\n\u001b[0;32m   1776\u001b[0m             \u001b[39m\"\u001b[39;49m\u001b[39mexpansions\u001b[39;49m\u001b[39m\"\u001b[39;49m, \u001b[39m\"\u001b[39;49m\u001b[39mmedia.fields\u001b[39;49m\u001b[39m\"\u001b[39;49m, \u001b[39m\"\u001b[39;49m\u001b[39mplace.fields\u001b[39;49m\u001b[39m\"\u001b[39;49m, \u001b[39m\"\u001b[39;49m\u001b[39mpoll.fields\u001b[39;49m\u001b[39m\"\u001b[39;49m,\n\u001b[0;32m   1777\u001b[0m             \u001b[39m\"\u001b[39;49m\u001b[39mtweet.fields\u001b[39;49m\u001b[39m\"\u001b[39;49m, \u001b[39m\"\u001b[39;49m\u001b[39muser.fields\u001b[39;49m\u001b[39m\"\u001b[39;49m\n\u001b[0;32m   1778\u001b[0m         ), data_type\u001b[39m=\u001b[39;49mTweet, user_auth\u001b[39m=\u001b[39;49muser_auth\n\u001b[0;32m   1779\u001b[0m     )\n",
      "File \u001b[1;32mc:\\Users\\omars\\miniconda3\\envs\\nlp\\lib\\site-packages\\tweepy\\client.py:129\u001b[0m, in \u001b[0;36mBaseClient._make_request\u001b[1;34m(self, method, route, params, endpoint_parameters, json, data_type, user_auth)\u001b[0m\n\u001b[0;32m    123\u001b[0m \u001b[39mdef\u001b[39;00m \u001b[39m_make_request\u001b[39m(\n\u001b[0;32m    124\u001b[0m     \u001b[39mself\u001b[39m, method, route, params\u001b[39m=\u001b[39m{}, endpoint_parameters\u001b[39m=\u001b[39m(), json\u001b[39m=\u001b[39m\u001b[39mNone\u001b[39;00m,\n\u001b[0;32m    125\u001b[0m     data_type\u001b[39m=\u001b[39m\u001b[39mNone\u001b[39;00m, user_auth\u001b[39m=\u001b[39m\u001b[39mFalse\u001b[39;00m\n\u001b[0;32m    126\u001b[0m ):\n\u001b[0;32m    127\u001b[0m     request_params \u001b[39m=\u001b[39m \u001b[39mself\u001b[39m\u001b[39m.\u001b[39m_process_params(params, endpoint_parameters)\n\u001b[1;32m--> 129\u001b[0m     response \u001b[39m=\u001b[39m \u001b[39mself\u001b[39;49m\u001b[39m.\u001b[39;49mrequest(method, route, params\u001b[39m=\u001b[39;49mrequest_params,\n\u001b[0;32m    130\u001b[0m                             json\u001b[39m=\u001b[39;49mjson, user_auth\u001b[39m=\u001b[39;49muser_auth)\n\u001b[0;32m    132\u001b[0m     \u001b[39mif\u001b[39;00m \u001b[39mself\u001b[39m\u001b[39m.\u001b[39mreturn_type \u001b[39mis\u001b[39;00m requests\u001b[39m.\u001b[39mResponse:\n\u001b[0;32m    133\u001b[0m         \u001b[39mreturn\u001b[39;00m response\n",
      "File \u001b[1;32mc:\\Users\\omars\\miniconda3\\envs\\nlp\\lib\\site-packages\\tweepy\\client.py:115\u001b[0m, in \u001b[0;36mBaseClient.request\u001b[1;34m(self, method, route, params, json, user_auth)\u001b[0m\n\u001b[0;32m    113\u001b[0m         \u001b[39mreturn\u001b[39;00m \u001b[39mself\u001b[39m\u001b[39m.\u001b[39mrequest(method, route, params, json, user_auth)\n\u001b[0;32m    114\u001b[0m     \u001b[39melse\u001b[39;00m:\n\u001b[1;32m--> 115\u001b[0m         \u001b[39mraise\u001b[39;00m TooManyRequests(response)\n\u001b[0;32m    116\u001b[0m \u001b[39mif\u001b[39;00m response\u001b[39m.\u001b[39mstatus_code \u001b[39m>\u001b[39m\u001b[39m=\u001b[39m \u001b[39m500\u001b[39m:\n\u001b[0;32m    117\u001b[0m     \u001b[39mraise\u001b[39;00m TwitterServerError(response)\n",
      "\u001b[1;31mTooManyRequests\u001b[0m: 429 Too Many Requests\nToo Many Requests"
     ]
    }
   ],
   "source": [
    "client = tweepy.Client(bearer_token=bearer_token_)\n",
    "# for tweet_id in train_frame['tweet_id'][:15]:\n",
    "#     print(client.get_tweet(tweet_id).data)\n",
    "client.get_tweet(train_frame['tweet_id'][0]).data\n",
    "\n",
    "# list_ = []\n",
    "# for tweet_id in tqdm(train_frame['tweet_id']):\n",
    "#     if client.get_tweet(tweet_id).data != None:\n",
    "#         list_.append(client.get_tweet(tweet_id).data)\n",
    "#         sleep(0.25)\n",
    "\n",
    "# list_ = [client.get_tweet(tweet_id).data for tweet_id in tqdm(train_frame['tweet_id']) if client.get_tweet(tweet_id).data != None]\n",
    "# print(client.get_tweet(train_frame['tweet_id'][0]).data)"
   ]
  },
  {
   "cell_type": "code",
   "execution_count": null,
   "metadata": {},
   "outputs": [],
   "source": []
  }
 ],
 "metadata": {
  "kernelspec": {
   "display_name": "nlp",
   "language": "python",
   "name": "python3"
  },
  "language_info": {
   "codemirror_mode": {
    "name": "ipython",
    "version": 3
   },
   "file_extension": ".py",
   "mimetype": "text/x-python",
   "name": "python",
   "nbconvert_exporter": "python",
   "pygments_lexer": "ipython3",
   "version": "3.8.15"
  },
  "orig_nbformat": 4,
  "vscode": {
   "interpreter": {
    "hash": "e1961965754ed221a7c2fee85a9c41d05a1f66bee8023eccc6a7de6892ab367c"
   }
  }
 },
 "nbformat": 4,
 "nbformat_minor": 2
}
